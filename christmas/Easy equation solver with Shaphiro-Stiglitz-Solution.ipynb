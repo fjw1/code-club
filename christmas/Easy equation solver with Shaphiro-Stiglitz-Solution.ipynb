{
 "cells": [
  {
   "cell_type": "code",
   "execution_count": 1,
   "metadata": {
    "collapsed": false
   },
   "outputs": [],
   "source": [
    "from __future__ import division\n",
    "import numpy as np\n",
    "from matplotlib import pyplot as plt\n",
    "import seaborn as sns\n",
    "from scipy.optimize import fsolve\n",
    "\n",
    "import sympy as sym\n",
    "\n",
    "%matplotlib inline\n",
    "sns.set_style('whitegrid')"
   ]
  },
  {
   "cell_type": "markdown",
   "metadata": {},
   "source": [
    "\n",
    "# Christmas notebook 1\n",
    "\n",
    "This is the fisrt notebook in a series of three that will use the labour models as seen in Macro 1B to introduce some useful tools. These are all practice and of course not requiered for anything, but if you want to keep up with coding - as there are lots of coding to come in the coming months! - they are a relaxed way of refreshing the things we saw back in November. As such, I recommend keeping the other notebooks open to look up for code bits.\n",
    "\n",
    "<img src=c_banner.png>\n",
    "\n",
    "## Easy equation solver with the Shaphiro-Stiglitz model\n",
    "\n",
    "Matlab has a special function called ``fsolve`` that solves simple equations of the form $f(x) = 0 $.\n",
    "\n",
    "This come quite handy for simple univariate problems. The python equivalent is also called ``fsolve``. You can see how we import it unpstairs.\n",
    "\n",
    "Actually, if you do have time to spare this Christmas, I recommend taking a look at all of the optimizations routines scipy offers [here](https://docs.scipy.org/doc/scipy-0.18.1/reference/optimize.html). Keep this page close, for we will use it later on when talking about estimation and function approximation.\n",
    "\n",
    "Let's learn how to use fsolve with a familiar model: the Shaphiro-Stiglitz model.\n",
    "\n",
    "### 1 Coding the Shaphiro-Stiglitz model\n",
    "\n",
    "This is a warm up where you will use the same skills as in the Solow Model exercise and the Basics of python notebook. Keep one (or both) of this open for convenience.\n",
    "\n",
    "Our objective here is to code a plot that shows the equilibrium of the model - and do some comparative statics."
   ]
  },
  {
   "cell_type": "markdown",
   "metadata": {},
   "source": [
    "> **Task 1**: Create a dictionary of parameters (call it ``pam``) with this baseline values:\n",
    "\n",
    "|parameter|value|\n",
    "|---|---|\n",
    "|$z$ | 0.1|\n",
    "|$e$ | 1|\n",
    "|$q$ | 0.1|\n",
    "|$\\lambda$ | 0.1|\n",
    "|$r$ | 0.03|\n",
    "|$\\alpha$ | 0.33|"
   ]
  },
  {
   "cell_type": "code",
   "execution_count": 15,
   "metadata": {
    "collapsed": true
   },
   "outputs": [],
   "source": [
    "# Parameters\n",
    "pams = {\"z\" : 0.1,\n",
    "        \"e\" : 1,\n",
    "        \"q\" : 0.1,\n",
    "        \"lam\":0.1,\n",
    "        \"r\" : 0.03,\n",
    "        \"alpha\":0.33}\n",
    "\n",
    "\n",
    "K = 100\n",
    "N = 100"
   ]
  },
  {
   "cell_type": "markdown",
   "metadata": {},
   "source": [
    "We will also need to fix population of working age and capital:"
   ]
  },
  {
   "cell_type": "code",
   "execution_count": 3,
   "metadata": {
    "collapsed": true
   },
   "outputs": [],
   "source": [
    "K = 100\n",
    "N = 100"
   ]
  },
  {
   "cell_type": "markdown",
   "metadata": {},
   "source": [
    "> **Task 2**: In the cells bellow, define a function for each the two equations of the model, using the parameters declared above.\n",
    "\n",
    "In case you forgot, those are:\n",
    "\n",
    "Non-shrinking condition\n",
    "\n",
    "$$w=z+e+\\frac{e}{q}\\Big[\\frac{\\lambda}{u}+r\\Big]$$\n",
    "\n",
    "Labour demand (assume Cobb-Douglas):\n",
    "\n",
    "$$w=F'(L)$$"
   ]
  },
  {
   "cell_type": "code",
   "execution_count": 4,
   "metadata": {
    "collapsed": true
   },
   "outputs": [],
   "source": [
    "def NSC(u,params=pams):\n",
    "    z, e, q, lam, r = params[\"z\"], params['e'],params['q'],params['lam'],params['r']\n",
    "    return z + e + (e/q) * (lam/u) + r * (e/q)"
   ]
  },
  {
   "cell_type": "code",
   "execution_count": 5,
   "metadata": {
    "collapsed": true
   },
   "outputs": [],
   "source": [
    "def Fl(L,K=K,alpha=pams['alpha'],A=10):\n",
    "    return A*(K/L)**alpha*(1-alpha)"
   ]
  },
  {
   "cell_type": "code",
   "execution_count": 22,
   "metadata": {
    "collapsed": false
   },
   "outputs": [
    {
     "data": {
      "text/plain": [
       "K**alpha*(A*L)**(-alpha + 1)"
      ]
     },
     "execution_count": 22,
     "metadata": {},
     "output_type": "execute_result"
    }
   ],
   "source": [
    "alpha, K, L, A = sym.var('alpha, K, L, A')    # define symbolic variables\n",
    "Y = K**alpha * (A*L)**(1-alpha)\n",
    "Y"
   ]
  },
  {
   "cell_type": "code",
   "execution_count": 19,
   "metadata": {
    "collapsed": true
   },
   "outputs": [],
   "source": [
    "def Fl(f):\n",
    "    yl = f.diff(\"L\")\n",
    "    Fl = sym.lambdify((alpha, K, L, A), yl)\n",
    "    return Fl"
   ]
  },
  {
   "cell_type": "code",
   "execution_count": 20,
   "metadata": {
    "collapsed": true
   },
   "outputs": [],
   "source": [
    "def Labor_demand(L,pams,f):\n",
    "    Y = Fl(f)\n",
    "    alpha=pams['alpha']\n",
    "    K = 100\n",
    "    A = 10\n",
    "    return Y(alpha, K, L, A)\n",
    "    "
   ]
  },
  {
   "cell_type": "code",
   "execution_count": 24,
   "metadata": {
    "collapsed": false
   },
   "outputs": [
    {
     "data": {
      "text/plain": [
       "8.421989609296247"
      ]
     },
     "execution_count": 24,
     "metadata": {},
     "output_type": "execute_result"
    }
   ],
   "source": [
    "Labor_demand(5,pams=pams,f=Y)"
   ]
  },
  {
   "cell_type": "code",
   "execution_count": 9,
   "metadata": {
    "collapsed": false
   },
   "outputs": [],
   "source": [
    "Fl = sym.lambdify((alpha, K, L, A), Y)"
   ]
  },
  {
   "cell_type": "markdown",
   "metadata": {},
   "source": [
    "Becuse we want a plot, we need a grid of values to feed the functions we defined above. The next cell defines a grid fou unemployment and employment ($L$).\n",
    "\n",
    "There are a couple of ways to define a grid:\n",
    "- ``np.linspace(a,b,n)`` creates a grid separated by splitting it in ``n`` even spaces between ``a`` and ``b``.\n",
    "\n",
    "- ``np.arange(a,b,z)`` creates a grid between ``a`` and ``b`` in increments of ``z``.\n",
    "\n",
    "- ``np.logspace(a,b)`` creates a grid between ``a`` and ``b`` in log increments. This means even spaces between $log_{10}(a)$ and $log_{10}(b)$. This is good for certains problems, specially if you are approximating a function that is exponential or logarithmic - this happens a lot.\n",
    "\n",
    "For this problem, and depending how you defined the functions above, it is good to define a grid for unemployment (between 0 and 1) and a grid for employment (between 0 and $N$).\n",
    "\n",
    "> **Task 3**: Define the a grid with 1000 points for unemployment ($u$), and another grid with its equivalent employment ($L$) level."
   ]
  },
  {
   "cell_type": "code",
   "execution_count": 6,
   "metadata": {
    "collapsed": false
   },
   "outputs": [],
   "source": [
    "ugrid = np.linspace(1,0,1000)\n",
    "Lgrid = N - ugrid*N"
   ]
  },
  {
   "cell_type": "markdown",
   "metadata": {},
   "source": [
    "We are done! Use your defined functions, parameter dictionary and grid to plot the equilibrium of the model.\n",
    "\n",
    "You should end up with somwthing that looks like my plot below:"
   ]
  },
  {
   "cell_type": "code",
   "execution_count": 7,
   "metadata": {
    "collapsed": false
   },
   "outputs": [
    {
     "data": {
      "image/png": "[encoded data removed]",
      "text/plain": [
       "<matplotlib.figure.Figure at 0x1085d3210>"
      ]
     },
     "metadata": {},
     "output_type": "display_data"
    }
   ],
   "source": [
    "plt.plot(Lgrid,NSC(ugrid))\n",
    "plt.plot(Lgrid,Fl(Lgrid))\n",
    "plt.ylim(0,10)\n",
    "plt.show()"
   ]
  },
  {
   "cell_type": "markdown",
   "metadata": {},
   "source": [
    "### 2 A first look into optimization routines\n",
    "\n",
    "Now we need to solve for the cross between the funtions: the equilibrium of the model.\n",
    "\n",
    "You can work out the solution with pen and paper (and some algebra) but it is usually faster to use an *equation solver*.\n",
    "\n",
    "Equation solvers are the small brothers of a family of optimizers (minimizers): functions that try to find the minimum of other functions. This usually involve get a function $f(x)$ as close to zero as it can.\n",
    "\n",
    "Optimization theory is a whole topic in itself, and you will probably hear more about it in the bootcamp in June - where (spoliler alert) you'll code *your own* minimizer. If you want a quick review, I recommend again the [scipy website](https://docs.scipy.org/doc/scipy-0.18.1/reference/optimize.html) where all of these functions in python live.\n",
    "\n",
    "The basic idea is super simple tough:\n",
    "- Give an initial guess $x_0$ and calculate $f(x_0)$.\n",
    "- Try an slightly bigger number $x_1 = x_0 + \\Delta $ and caluclate $f(x_1)$\n",
    "- Have we improved over $x_0$? Is $f(x_1)-f(x_0) < 0$?\n",
    "    - If yes, then calculate $f(x_2) = f(x_1+\\Delta)$ and repeat\n",
    "    - If no, then calculate $f(x_{-1}) = f(x_0-\\Delta)$ and repeat\n",
    "    - If you get stuck between 2 points (say $x_4$ and $x_3$) then reduce the size of $\\Delta$ and repeat\n",
    "- When you get arbitrality close to 0, stop. You have solved the equation.\n",
    "\n",
    "It's so simple it's silly, but that is what computers are best at: repeating very silly operations for an absurd ammount of times. When you hear people saying \"I need to leave the computer running for days\" they are usually running a very big optimization routine like the one above - think of a function of 16 variables, varying each of them in turn. Really, really stupid. But it works!\n",
    "\n",
    "A bit of useful jargon:\n",
    "- $x_0$ is the *initial guess* or *the guess*.\n",
    "- $f$ is the *objective function*.\n",
    "- $\\Delta$ is the *step* or the *step size*.\n",
    "\n",
    "Some clever minimization routines do more complicated stuff. For example, they adapt the step size, they jump to values very far away from the current guess if they see not a lot of progress of being made, they use \"genetic permutations\" (no kidding!) to find better guesses and a lot more. In general though, you can always be faster (and smarter) if your objective function happens to be differentiable - see [this](https://en.wikipedia.org/wiki/Newton's_method) for example.\n",
    "\n",
    "For now, I will only teach you to use ``fsolve``, which is the name of the classic equation solver in Matlab. ``fsolve`` will return the value of $x$ such that $f(x)=0$. You need to define $x$ beforehand as a function of **one** variable and guive ``fsolve`` an initial guess.\n",
    "\n",
    "This also leads me to a short cut to define functions in python: the ``lambda`` method:"
   ]
  },
  {
   "cell_type": "code",
   "execution_count": 8,
   "metadata": {
    "collapsed": true
   },
   "outputs": [],
   "source": [
    "polynomial = lambda x: x**2*3 - 4*x"
   ]
  },
  {
   "cell_type": "markdown",
   "metadata": {},
   "source": [
    "Which is equivalent to:"
   ]
  },
  {
   "cell_type": "code",
   "execution_count": 9,
   "metadata": {
    "collapsed": false
   },
   "outputs": [],
   "source": [
    "def polynomial(x):\n",
    "    return -x**2*3 + 4*x"
   ]
  },
  {
   "cell_type": "markdown",
   "metadata": {},
   "source": [
    "And this is how you use fsolve to find the highest x for which ```polynomial = 0```:"
   ]
  },
  {
   "cell_type": "code",
   "execution_count": 10,
   "metadata": {
    "collapsed": false
   },
   "outputs": [
    {
     "data": {
      "text/plain": [
       "array([ 1.33333333])"
      ]
     },
     "execution_count": 10,
     "metadata": {},
     "output_type": "execute_result"
    }
   ],
   "source": [
    "fsolve(polynomial,10)"
   ]
  },
  {
   "cell_type": "markdown",
   "metadata": {},
   "source": [
    "We can check that it is the right point by plotting it the function:"
   ]
  },
  {
   "cell_type": "code",
   "execution_count": 12,
   "metadata": {
    "collapsed": false
   },
   "outputs": [
    {
     "data": {
      "image/png": "[encoded data removed]",
      "text/plain": [
       "<matplotlib.figure.Figure at 0x1089a1950>"
      ]
     },
     "metadata": {},
     "output_type": "display_data"
    }
   ],
   "source": [
    "xgrid = np.linspace(0,3,100)                    # Create a grid for plotting\n",
    "sol = fsolve(polynomial,10)                     # Store the solution in sol\n",
    "\n",
    "plt.plot(xgrid,polynomial(xgrid))               # Plot the objective function\n",
    "plt.scatter(sol,polynomial(sol),c='r')          # Mark the solution point ussing plt.scatter\n",
    "plt.axhline(c='black',alpha=0.5)                # Plot a horizontal line (at 0 by default)\n",
    "plt.axvline(c='black',alpha=0.5)                # Plot a vertical line (at 0 by default)\n",
    "plt.show()                                      # Show the plot!"
   ]
  },
  {
   "cell_type": "markdown",
   "metadata": {},
   "source": [
    "You should have noticed that I used 10 as an initial guess, which ensures I get the solution I wanted (the highest $x$ such that $f(x)=0$). But it is easy to see what could happen if instead I gave it a \"bad\" initial guess:"
   ]
  },
  {
   "cell_type": "code",
   "execution_count": 13,
   "metadata": {
    "collapsed": false
   },
   "outputs": [
    {
     "data": {
      "image/png": "[encoded data removed]",
      "text/plain": [
       "<matplotlib.figure.Figure at 0x108c21710>"
      ]
     },
     "metadata": {},
     "output_type": "display_data"
    }
   ],
   "source": [
    "xgrid = np.linspace(0,3,100)                    # Create a grid for plotting\n",
    "sol = fsolve(polynomial,0.2)                    # Store the solution in sol\n",
    "\n",
    "plt.plot(xgrid,polynomial(xgrid))               # Plot the objective function\n",
    "plt.scatter(sol,polynomial(sol),c='r')          # Mark the solution point ussing plt.scatter\n",
    "plt.axhline(c='black',alpha=0.5)                # Plot a horizontal line (at 0 by default)\n",
    "plt.axvline(c='black',alpha=0.5)                # Plot a vertical line (at 0 by default)\n",
    "plt.show()                                      # Show the plot!"
   ]
  },
  {
   "cell_type": "markdown",
   "metadata": {},
   "source": [
    "I ended up at $x=0$! Moral of the story: be careful with your initial guesses. 90% of being good at coding in economics is thinking about how to get a good initial guess.\n",
    "\n",
    "Suposse we wanted to get the maximum of this function instead.\n",
    "\n",
    "This alows me to introduce you to the ``poly1d`` module of ``numpy``. Watch:"
   ]
  },
  {
   "cell_type": "code",
   "execution_count": 14,
   "metadata": {
    "collapsed": false
   },
   "outputs": [
    {
     "name": "stdout",
     "output_type": "stream",
     "text": [
      "    2\n",
      "-3 x + 4 x\n"
     ]
    }
   ],
   "source": [
    "poly = np.poly1d([-3, 4, 0])    # Define the coeffients in order (from bigger to smaller)\n",
    "print poly                      # Prints (1) the order of the polynomial (2) the polynomial itself"
   ]
  },
  {
   "cell_type": "code",
   "execution_count": 15,
   "metadata": {
    "collapsed": false
   },
   "outputs": [
    {
     "name": "stdout",
     "output_type": "stream",
     "text": [
      " \n",
      "-6 x + 4\n"
     ]
    }
   ],
   "source": [
    "print poly.deriv()              # Prints the derivative of the polynomial"
   ]
  },
  {
   "cell_type": "markdown",
   "metadata": {},
   "source": [
    "So convient, right?\n",
    "\n",
    "Let's find the maximun now:"
   ]
  },
  {
   "cell_type": "code",
   "execution_count": 16,
   "metadata": {
    "collapsed": false
   },
   "outputs": [
    {
     "data": {
      "image/png": "[encoded data removed]",
      "text/plain": [
       "<matplotlib.figure.Figure at 0x108c703d0>"
      ]
     },
     "metadata": {},
     "output_type": "display_data"
    }
   ],
   "source": [
    "poly_derv = poly.deriv()                        # Create the objective function\n",
    "xgrid = np.linspace(0,2,100)                    # Create a grid for plotting\n",
    "sol = fsolve(poly_derv,0.2)                     # Store the solution in sol\n",
    "\n",
    "plt.plot(xgrid,polynomial(xgrid))               # Plot the objective function\n",
    "plt.scatter(sol,polynomial(sol),c='r')          # Mark the solution point ussing plt.scatter\n",
    "plt.axhline(c='black',alpha=0.5)                # Plot a horizontal line (at 0 by default)\n",
    "plt.axvline(c='black',alpha=0.5)                # Plot a vertical line (at 0 by default)\n",
    "\n",
    "plt.plot( (sol,sol) , (0,poly(sol)) ,c='navy',ls='--')       # Plot a vertical line at optimum\n",
    "plt.plot( (0,sol), (poly(sol),poly(sol)) ,c='navy',ls='--')  # Plot a horizontal line at optimum\n",
    "\n",
    "plt.show()                                      # Show the plot!"
   ]
  },
  {
   "cell_type": "markdown",
   "metadata": {},
   "source": [
    "### 3 Solving the S-T model\n",
    "\n",
    "It's your turn now.\n",
    "\n",
    "> **Task 4**: Create an equation that would serve as our objective function. Solve for the equilibirum level of $u$ and $L$\n",
    ">\n",
    "> *Hint: what should be zero in equilibrium?*"
   ]
  },
  {
   "cell_type": "code",
   "execution_count": 17,
   "metadata": {
    "collapsed": true
   },
   "outputs": [],
   "source": [
    "eq = lambda x : NSC(x) - Fl(N - x*N)"
   ]
  },
  {
   "cell_type": "code",
   "execution_count": 18,
   "metadata": {
    "collapsed": false
   },
   "outputs": [
    {
     "name": "stdout",
     "output_type": "stream",
     "text": [
      "[ 0.174303]\n"
     ]
    }
   ],
   "source": [
    "ueq = fsolve(eq,0.6)    # This gives me the solution in terms of unemployment\n",
    "\n",
    "Leq = N - ueq*N         # Here I convert to employment\n",
    "print ueq"
   ]
  },
  {
   "cell_type": "markdown",
   "metadata": {},
   "source": [
    "> **Task 5**: Add the equilibrium value to your plot from above (task 3). \n",
    "\n",
    "Should look like mine below:"
   ]
  },
  {
   "cell_type": "code",
   "execution_count": 19,
   "metadata": {
    "collapsed": false
   },
   "outputs": [
    {
     "data": {
      "image/png": "[encoded data removed]",
      "text/plain": [
       "<matplotlib.figure.Figure at 0x1089b4050>"
      ]
     },
     "metadata": {},
     "output_type": "display_data"
    }
   ],
   "source": [
    "plt.plot(Lgrid,NSC(ugrid), label='NSC')                        # Plots NSC\n",
    "plt.plot(Lgrid,Fl(Lgrid), label=\"$F'(L)$\")                     # Plots Labour demand\n",
    "plt.plot( (Leq,Leq), (0,NSC(ueq)), ls='--', c='navy')          # Plots vertical line to equilibrium (x1,x2),(y1,y2)\n",
    "plt.plot( (0,Leq), (NSC(ueq),NSC(ueq)), ls='--' , c='navy')    # Plots horizaontal line to equilibrium\n",
    "plt.xlabel(\"$L$\", fontsize=16)                                 # Labels x axis\n",
    "plt.ylabel('Wage', fontsize=16)                                # Labels y axis\n",
    "plt.legend(loc='best',frameon=True,fontsize=14)                # Plots the legend\n",
    "plt.ylim(0,10)                                                 # Sets plot limits\n",
    "plt.show()                                                     # Show the plot!"
   ]
  },
  {
   "cell_type": "markdown",
   "metadata": {},
   "source": [
    "### 4 Comparative statics\n",
    "\n",
    "Let's increase the exogenous job destruction rate.\n",
    "\n",
    "> **Task 6:** Change the parameter $\\lambda$ to be equal to $0.2$. Calculate the new equilibrium unemployment and plot the result.\n",
    ">\n",
    "> Extra points if you plot the previous line with the new one in the same picture.\n",
    ">\n",
    "> *Hint: remember to copy the dictionary instead of modifying the original*"
   ]
  },
  {
   "cell_type": "code",
   "execution_count": 20,
   "metadata": {
    "collapsed": false
   },
   "outputs": [
    {
     "name": "stdout",
     "output_type": "stream",
     "text": [
      "[ 0.32175847]\n"
     ]
    }
   ],
   "source": [
    "pam2 = pams.copy()          # Create a new dictionary (copy of the old one)\n",
    "pam2['lam'] = 0.2           # Change the value of lambda \n",
    "\n",
    "# Solve again for equilibrium: define your objective\n",
    "eq2 = lambda x : NSC(x,params=pam2) - Fl(N - x*N, alpha=pam2['alpha'])\n",
    "\n",
    "# Solve again for equilibrium: feed it to the equation solver\n",
    "ueq2 = fsolve(eq2,0.6)\n",
    "\n",
    "Leq2 = N - ueq2*N          # Convert to employment\n",
    "print ueq2                 # Print the result"
   ]
  },
  {
   "cell_type": "code",
   "execution_count": 35,
   "metadata": {
    "collapsed": false
   },
   "outputs": [
    {
     "data": {
      "image/png": "[encoded data removed]",
      "text/plain": [
       "<matplotlib.figure.Figure at 0x1099627d0>"
      ]
     },
     "metadata": {},
     "output_type": "display_data"
    }
   ],
   "source": [
    "plt.plot(Lgrid,NSC(ugrid), label='NSC')\n",
    "plt.plot(Lgrid,Fl(Lgrid), label=\"$F'(L)$\")\n",
    "plt.plot(Lgrid,NSC(ugrid,pam2), label='NSC2', c='blue', ls='--')\n",
    "\n",
    "plt.plot( (Leq2,Leq2), (0,NSC(ueq2,params=pam2)), ls=':', c='navy', alpha=0.5)\n",
    "plt.plot( (0,Leq2), (NSC(ueq2,params=pam2),NSC(ueq2,params=pam2)), ls=':' , c='navy', alpha=0.5)\n",
    "plt.plot( (Leq,Leq), (0,NSC(ueq)), ls=':', c='navy', alpha=0.5)\n",
    "plt.plot( (0,Leq), (NSC(ueq),NSC(ueq)), ls=':' , c='navy', alpha=0.5)\n",
    "plt.xlabel(\"$L$\", fontsize=16)\n",
    "plt.ylabel('Wage', fontsize=16)\n",
    "plt.legend(loc='best',frameon=True,fontsize=14,bbox_to_anchor=(1,1))\n",
    "plt.ylim(0,10)\n",
    "plt.show()"
   ]
  },
  {
   "cell_type": "markdown",
   "metadata": {},
   "source": [
    "Can you calculate the elasticity of unemployment to the job destruction rate (j.d.r.)? Remember the formula of elasticity:\n",
    "\n",
    "$$\\epsilon^u_\\lambda =  \\frac{d u}{d \\lambda}  \\frac{\\lambda}{u} = \\frac{\\frac{du}{u}}{\\frac{d\\lambda}{\\lambda}}$$\n",
    "\n",
    "So it's relative change in unemployemnt over relative change in j.d.r."
   ]
  },
  {
   "cell_type": "code",
   "execution_count": 44,
   "metadata": {
    "collapsed": false
   },
   "outputs": [
    {
     "name": "stdout",
     "output_type": "stream",
     "text": [
      "Elasticity is 0.84597209019\n"
     ]
    }
   ],
   "source": [
    "l1 = pams['lam']\n",
    "l2 = pam2['lam']\n",
    "print \"Elasticity is {}\".format(float( ((ueq2-ueq)/ueq)/((l2-l1)/l1) ))"
   ]
  },
  {
   "cell_type": "markdown",
   "metadata": {},
   "source": [
    "## Done!\n",
    "\n",
    "This was a cute fun exercise that show you how to use a simple equation solver. Hopefull you have also gained some basic intuition into how the computer works its magic when using optimization routines.\n",
    "\n",
    "For papers and presentations most of what you'll need is to produce plots and tables of summary statistics (like elasticities). These silly exercises areactually good practice, and maybe even good to keep at hand for future exercises. I'll upload my solutions by the end of the week.\n",
    "\n",
    "If you want more practice try changing other paramters in the cells bellow, or calculate more elasticities, fell free to use the cells below.\n",
    "\n",
    "## Next week\n",
    "\n",
    "Introduction to numerical integration with the MacCall model!\n",
    "\n",
    "## <span style=\"color:red\">Merry Christmas everybody!</span>\n",
    "<a href=\"http://www.theatlantic.com/business/archive/2013/12/if-economists-wrote-christmas-cards/282493/\"> \n",
    "<img src=\"https://lh3.googleusercontent.com/-pzas1Rsj5K4/Vn0-w_vlvLI/AAAAAAAAL7E/YCiqwcruYxc/s0/holiday-octocat.png\",width=200,height=200>  </a>"
   ]
  },
  {
   "cell_type": "code",
   "execution_count": null,
   "metadata": {
    "collapsed": false
   },
   "outputs": [],
   "source": []
  },
  {
   "cell_type": "code",
   "execution_count": null,
   "metadata": {
    "collapsed": false
   },
   "outputs": [],
   "source": []
  }
 ],
 "metadata": {
  "kernelspec": {
   "display_name": "Python 2",
   "language": "python",
   "name": "python2"
  },
  "language_info": {
   "codemirror_mode": {
    "name": "ipython",
    "version": 2
   },
   "file_extension": ".py",
   "mimetype": "text/x-python",
   "name": "python",
   "nbconvert_exporter": "python",
   "pygments_lexer": "ipython2",
   "version": "2.7.13"
  }
 },
 "nbformat": 4,
 "nbformat_minor": 0
}
