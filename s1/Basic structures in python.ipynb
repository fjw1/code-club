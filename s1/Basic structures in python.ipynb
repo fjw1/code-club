{
 "cells": [
  {
   "cell_type": "markdown",
   "metadata": {},
   "source": [
    "<a id='top'></a>\n",
    "# Python 101: Basic structures\n",
    "\n",
    "This notebook provides a quick overview on the basic data sources of python.\n",
    "\n",
    "Most of these have their equivalent in Matlab and other higher languages, so this should be a useful reminder. For example,  `ones()` is the Matlab function equivalent of `numpy.ones()`.\n",
    "\n",
    "The structure of this notebook is:\n",
    "\n",
    "1. [Vectors, matrices, dictionaries and lists](#part1)\n",
    "2. [How to work with functions, loops and conditionals](#part2)\n",
    "3. [Basics of plotting](#part3)\n",
    "\n",
    "After working your way through it, you should be able to work your way through the `Solow Model Example`."
   ]
  },
  {
   "cell_type": "code",
   "execution_count": null,
   "metadata": {
    "collapsed": false
   },
   "outputs": [],
   "source": [
    "# execute this cell before continuing (This line is a code comment, it doesn't execute!)\n",
    "# it loads the libraries (toolkits) we are going to use:\n",
    "\n",
    "import numpy as np                 # numpy is for vectors\n",
    "import matplotlib.pyplot as plt    # matplotlib is for plots\n",
    "import seaborn as sns              # seaborn is for nice plots\n",
    "from __future__ import division    # This makes 7/3 to return 3.5 (preventing typos!)\n",
    "\n",
    "# This below tells matplotlib to show the plots inside the notebook\n",
    "%matplotlib inline\n",
    "# This sets the style of plots. Try 'white' or 'darkgrid'!\n",
    "sns.set_style('whitegrid')"
   ]
  },
  {
   "cell_type": "markdown",
   "metadata": {},
   "source": [
    "<a id='part1'></a>\n",
    "## 1. Vectors, matrices, lists and dictionaries \n",
    "### 1.1 Vectors and matrices\n",
    "\n",
    "In computational economics you will be using vectors a lot!\n",
    "\n",
    "In python we use Numpy Arrays, a structure that behaves as a vector. \n",
    "\n",
    "Here is the sintax (the magic words) to create and store a vector:"
   ]
  },
  {
   "cell_type": "code",
   "execution_count": null,
   "metadata": {
    "collapsed": false
   },
   "outputs": [],
   "source": [
    "array1 = np.array([1,2,3])    # To insert a comment, just put a hashtag before it, like this.\n",
    "array1"
   ]
  },
  {
   "cell_type": "markdown",
   "metadata": {},
   "source": [
    "Now we can do stuff with it, like add it to other vectors, mutiply it..."
   ]
  },
  {
   "cell_type": "code",
   "execution_count": null,
   "metadata": {
    "collapsed": false
   },
   "outputs": [],
   "source": [
    "print array1*2\n",
    "print array1+np.array([1,1,1])"
   ]
  },
  {
   "cell_type": "markdown",
   "metadata": {},
   "source": [
    "Can also make matrices"
   ]
  },
  {
   "cell_type": "code",
   "execution_count": null,
   "metadata": {
    "collapsed": false
   },
   "outputs": [],
   "source": [
    "matrix1 = np.array(([1,2,3],\n",
    "                    [4,5,6],\n",
    "                    [7,8,9]))  # Define a matrix, store it in matrix1\n",
    "matrix1                        # Prints matrix1"
   ]
  },
  {
   "cell_type": "code",
   "execution_count": null,
   "metadata": {
    "collapsed": false
   },
   "outputs": [],
   "source": [
    "matrix1*2  # To multiply by a scalar, item by item"
   ]
  },
  {
   "cell_type": "code",
   "execution_count": null,
   "metadata": {
    "collapsed": false
   },
   "outputs": [],
   "source": [
    "print matrix1**2 # To rise to a power, item by item"
   ]
  },
  {
   "cell_type": "code",
   "execution_count": null,
   "metadata": {
    "collapsed": false
   },
   "outputs": [],
   "source": [
    "matrix2 = np.array(([1,0,0],\n",
    "                    [0,1,0],\n",
    "                    [0,0,1]))\n",
    "matrix2 + matrix1        # Addition (try substraction!)"
   ]
  },
  {
   "cell_type": "code",
   "execution_count": null,
   "metadata": {
    "collapsed": false
   },
   "outputs": [],
   "source": [
    "matrix2*matrix1          # multiplication element by element (try division!)"
   ]
  },
  {
   "cell_type": "code",
   "execution_count": null,
   "metadata": {
    "collapsed": false
   },
   "outputs": [],
   "source": [
    "np.dot(matrix2,matrix1)  # matrix multiplication"
   ]
  },
  {
   "cell_type": "code",
   "execution_count": null,
   "metadata": {
    "collapsed": false
   },
   "outputs": [],
   "source": [
    "np.kron(matrix2,matrix1) # Kronecker product"
   ]
  },
  {
   "cell_type": "code",
   "execution_count": null,
   "metadata": {
    "collapsed": false
   },
   "outputs": [],
   "source": [
    "np.linalg.inv(matrix1)  # Inverse of a matrix (try with matrix 2)"
   ]
  },
  {
   "cell_type": "markdown",
   "metadata": {},
   "source": [
    "Other useful vector/matrix functions:\n",
    "- `np.ones(n)`: Creates a vector of length `n` full of ones.\n",
    "- `np.zeros(n)`: Creates a vector of length `n` full of zeros.\n",
    "- `np.empty(n)`: Creates a vector of length `n` of empty values.\n",
    "- `np.eye(n)`: Creates an indentity matrix of dimension `n`.\n",
    "\n",
    "And you can see a complete list in [numpy's website](https://docs.scipy.org/doc/numpy/reference/routines.linalg.html).\n",
    "\n",
    "> **Tip:** You can always google if you get stuck. Yes, I'm asking you to google something to solve your problems! According to a computational macro jedi master \"There is always, somewhere, a nerd with lots of spare time with an answer for your question. You just have to go find it.\" \n",
    "\n",
    ">Try an google \"numpy inverse\" a an example.\n",
    "\n",
    "### 1.2 Expanding vectors and changing values inside a vector\n",
    "\n",
    "Many times you will need to add to a vector (or a matrix) different numbers for that you'll need:\n",
    "\n",
    "- `np.hstack((X,Y))`: Pastes vector (matrix) `X` and `Y` togehter, horizontally.\n",
    "- `np.vstack((X,Y))`: Pastes vector (matrix) `X` and `Y` togehter, vertically."
   ]
  },
  {
   "cell_type": "code",
   "execution_count": null,
   "metadata": {
    "collapsed": false
   },
   "outputs": [],
   "source": [
    "np.hstack((array1,4))                    # Adds 4 at the end - mind the double parenthesis!"
   ]
  },
  {
   "cell_type": "code",
   "execution_count": null,
   "metadata": {
    "collapsed": false
   },
   "outputs": [],
   "source": [
    "np.vstack((array1,np.array([4,5,6])))    # Stacks vertically. CAREFUL: they should be the same length!"
   ]
  },
  {
   "cell_type": "markdown",
   "metadata": {},
   "source": [
    "It works with matrices too.\n",
    "\n",
    ">Quick exercise: ammend the code above to stack `matrix1` and `matrix2`.\n",
    "\n",
    "\n",
    "#### Changing values inside a vector:"
   ]
  },
  {
   "cell_type": "code",
   "execution_count": null,
   "metadata": {
    "collapsed": false
   },
   "outputs": [],
   "source": [
    "print array1\n",
    "array1[2]=4\n",
    "print array1"
   ]
  },
  {
   "cell_type": "markdown",
   "metadata": {},
   "source": [
    "Here there are 2 things you should have noticed:\n",
    "\n",
    "- Python starts counting from 0 (Matlab from 1).\n",
    "\n",
    "- Now we have changed `array1`, when before (we we were adding, multiplying and expanding) we didn't. This is because we use an `=` sign - we have assigned a new value to out variable. Careful with this! It is a great source of typos.\n",
    "\n",
    "> **Quick exercise:** Create a vector (0,0,0) add two new values (3 and 9) permanently. "
   ]
  },
  {
   "cell_type": "code",
   "execution_count": null,
   "metadata": {
    "collapsed": false
   },
   "outputs": [],
   "source": [
    "# Code to create a zero vector here\n",
    "# Code to change two values here\n",
    "# Code to print your vector here"
   ]
  },
  {
   "cell_type": "markdown",
   "metadata": {},
   "source": [
    "#### Selecting values: \n",
    "\n",
    "For selecting (indexing) values we can use the square brackets.\n",
    "\n",
    "Example: From matrix1 defined above we pick the fist column and store it into a variable called col1:\n",
    "\n",
    " - `matrix1[:,0]` $ \\rightarrow$ from matrix1, pick all ( : ) the rows  and the first ( 0 ) column."
   ]
  },
  {
   "cell_type": "code",
   "execution_count": null,
   "metadata": {
    "collapsed": false
   },
   "outputs": [],
   "source": [
    "col1 = matrix1[:,0]\n",
    "col1"
   ]
  },
  {
   "cell_type": "markdown",
   "metadata": {},
   "source": [
    ">Quick exercise: ammend the code above to select the first row instead of the first column.\n",
    "\n",
    "### 1.3 Lists\n",
    "\n",
    "A list is a colection of items, delimited by square brackets and separeted with commas. List are very versatile and can contain different types of objects. For example:"
   ]
  },
  {
   "cell_type": "code",
   "execution_count": null,
   "metadata": {
    "collapsed": false
   },
   "outputs": [],
   "source": [
    "interger_list = [1,2,3]\n",
    "\n",
    "vector_list = [ np.array([1,2,3]), np.zeros(4) ]\n",
    "\n",
    "string_list = ['Robb', 'Jon','Sansa','Arya','Bran','Rickon']\n",
    "\n",
    "mix_list = [ np.ones(2), 3.4, 'lol']"
   ]
  },
  {
   "cell_type": "markdown",
   "metadata": {},
   "source": [
    "You can select items by indexing (calling them with square brackets). Same as with vectors (arrays)."
   ]
  },
  {
   "cell_type": "code",
   "execution_count": null,
   "metadata": {
    "collapsed": false
   },
   "outputs": [],
   "source": [
    "string_list[1]"
   ]
  },
  {
   "cell_type": "markdown",
   "metadata": {},
   "source": [
    "You can change items inside a list using indexing (same with vectors)"
   ]
  },
  {
   "cell_type": "code",
   "execution_count": null,
   "metadata": {
    "collapsed": false
   },
   "outputs": [],
   "source": [
    "string_list[1] = 'Jon Snow'\n",
    "\n",
    "string_list"
   ]
  },
  {
   "cell_type": "markdown",
   "metadata": {},
   "source": [
    "You can enlarge a list by appending things to it - careful because it changes the original!"
   ]
  },
  {
   "cell_type": "code",
   "execution_count": null,
   "metadata": {
    "collapsed": false
   },
   "outputs": [],
   "source": [
    "string_list.append('Theon')\n",
    "\n",
    "string_list"
   ]
  },
  {
   "cell_type": "markdown",
   "metadata": {},
   "source": [
    "... and delete elements"
   ]
  },
  {
   "cell_type": "code",
   "execution_count": null,
   "metadata": {
    "collapsed": false
   },
   "outputs": [],
   "source": [
    "string_list.pop(-1)\n",
    "\n",
    "string_list"
   ]
  },
  {
   "cell_type": "markdown",
   "metadata": {},
   "source": [
    "> **Quick exercise:** Can you modify `string_list` so that only the four central elements remain? Try to use indexing.\n",
    "\n",
    "You may be tempted to use lists to store values (`.append` is simpler and faster than `hstack()`), but vectors (arrays) can be use for mathematical operations, while lists can't. For example:"
   ]
  },
  {
   "cell_type": "markdown",
   "metadata": {},
   "source": [
    "We can take double derivatives too:"
   ]
  },
  {
   "cell_type": "code",
   "execution_count": null,
   "metadata": {
    "collapsed": false
   },
   "outputs": [],
   "source": [
    "vector3 = np.array([2,4,2])\n",
    "list1 = [2,4,2]\n",
    "\n",
    "print \"vector multiplication:\", vector3*4\n",
    "print \"list multiplication:\", list1*4"
   ]
  },
  {
   "cell_type": "markdown",
   "metadata": {},
   "source": [
    "### 1.4 Dictionaries\n",
    "\n",
    "A very useful feature of python (and advantage over matlab) is dictionaries. They are maps between \"keys\" and \"values\". For example:"
   ]
  },
  {
   "cell_type": "code",
   "execution_count": null,
   "metadata": {
    "collapsed": false
   },
   "outputs": [],
   "source": [
    "capital_dict = {'United Kingdom': \"London\", 'France': \"Paris\", 'Italy':'Rome'}\n",
    "\n",
    "capital_dict['United Kingdom']"
   ]
  },
  {
   "cell_type": "markdown",
   "metadata": {},
   "source": [
    "Adding elements:"
   ]
  },
  {
   "cell_type": "code",
   "execution_count": null,
   "metadata": {
    "collapsed": false
   },
   "outputs": [],
   "source": [
    "capital_dict['Portugal']='Lisbon'\n",
    "\n",
    "capital_dict"
   ]
  },
  {
   "cell_type": "markdown",
   "metadata": {},
   "source": [
    "Dictionaries are very useful because like lists, they can cointain any object. I find it very useful for storing different solutions to the same problem with different parameters. Or actually, to store parameter values:"
   ]
  },
  {
   "cell_type": "code",
   "execution_count": null,
   "metadata": {
    "collapsed": false
   },
   "outputs": [],
   "source": [
    "param_dict = {'alpha':0.3, 'beta':0.98, 'delta':0.1, 'epsilon':2.0}\n",
    "\n",
    "100**param_dict['alpha']"
   ]
  },
  {
   "cell_type": "markdown",
   "metadata": {},
   "source": [
    "You can retrieve the entries of the dictionary with the method .keys() (a method is a built-in function of certain objects):"
   ]
  },
  {
   "cell_type": "code",
   "execution_count": null,
   "metadata": {
    "collapsed": false
   },
   "outputs": [],
   "source": [
    "capital_dict.keys()"
   ]
  },
  {
   "cell_type": "markdown",
   "metadata": {},
   "source": [
    "You can use the key word `in` with `.keys()` to search your dictionary:"
   ]
  },
  {
   "cell_type": "code",
   "execution_count": null,
   "metadata": {
    "collapsed": false
   },
   "outputs": [],
   "source": [
    "print 'Is Spain in my dictionary of capitals? ', 'Spain' in capital_dict.keys()\n",
    "print 'Is Italy in my dictionary of capitals? ', 'Italy' in capital_dict.keys()"
   ]
  },
  {
   "cell_type": "markdown",
   "metadata": {},
   "source": [
    "> **Quick Exercise:** add Spain to the dictionary so Spaniards don't get upset.\n",
    "\n",
    "\n",
    "Finally, if you ever need to copy a dictionary, use the `.copy()` method:"
   ]
  },
  {
   "cell_type": "code",
   "execution_count": null,
   "metadata": {
    "collapsed": false
   },
   "outputs": [],
   "source": [
    "new_param_dict = param_dict.copy()\n",
    "new_param_dict['alpha'] = 0.6\n",
    "\n",
    "print param_dict\n",
    "print new_param_dict"
   ]
  },
  {
   "cell_type": "markdown",
   "metadata": {},
   "source": [
    "Notice that to copy a list you can just assign it to a new variable:"
   ]
  },
  {
   "cell_type": "code",
   "execution_count": null,
   "metadata": {
    "collapsed": false
   },
   "outputs": [],
   "source": [
    "beatle_list = ['Paul', 'Jonh', 'George', 'Ringo']\n",
    "new_beatle_list = beatle_list\n",
    "new_beatle_list = new_beatle_list[:-1]      # keep everything until the last item (not including it)\n",
    "\n",
    "print new_beatle_list\n",
    "print beatle_list"
   ]
  },
  {
   "cell_type": "markdown",
   "metadata": {},
   "source": [
    "[*back to top*](#top)\n",
    "<a id='part2'></a>\n",
    "## 2. Functions, loops and conditionals\n",
    "### 2.1 Functions\n",
    "\n",
    "We know that python comes with loaded in functions, and our libraries are actually big collections of functions (like `vstack`,`linalg.inv` and so on). But most of the time you'll need to define your own functions.\n",
    "\n",
    "To define a custon made function, the sintax is:\n",
    "\n",
    "```python\n",
    "def function_name(variable):\n",
    "    result = f(variable)\n",
    "    return result\n",
    "    ```\n",
    "    \n",
    "Notice the indentation (things below def are shifted to the right). Take an example:"
   ]
  },
  {
   "cell_type": "code",
   "execution_count": null,
   "metadata": {
    "collapsed": true
   },
   "outputs": [],
   "source": [
    "def square(x):\n",
    "    result = x**2     # notice how we raise to a power in python. In Matlab is ^\n",
    "    return result"
   ]
  },
  {
   "cell_type": "markdown",
   "metadata": {},
   "source": [
    "Now we can use our function:"
   ]
  },
  {
   "cell_type": "code",
   "execution_count": null,
   "metadata": {
    "collapsed": false
   },
   "outputs": [],
   "source": [
    "print square(2)       # Square of a scalar (number)  \n",
    "print square(array1)  # It works with arrays (vectors) too!"
   ]
  },
  {
   "cell_type": "markdown",
   "metadata": {},
   "source": [
    "We can create functions that take more than one input.\n",
    "\n",
    "For example, take a look at this function:"
   ]
  },
  {
   "cell_type": "code",
   "execution_count": null,
   "metadata": {
    "collapsed": true
   },
   "outputs": [],
   "source": [
    "def k_star(s,n,g,delta,alpha):\n",
    "    \"\"\"Returns the BGP level of capital per effective worker\"\"\" # Instructions / definition\n",
    "    result = (s/(n+g+delta))**(1/1-alpha)\n",
    "    return result  "
   ]
  },
  {
   "cell_type": "code",
   "execution_count": null,
   "metadata": {
    "collapsed": false
   },
   "outputs": [],
   "source": [
    "k_star(0.1,0.01,0.05,0.09,0.33)"
   ]
  },
  {
   "cell_type": "markdown",
   "metadata": {},
   "source": [
    ">**Quick Exercise:** Create a function called Cobb_Douglas that when given alpha, K, L and A as arguments it returns the resulting Cobb-Douglas production"
   ]
  },
  {
   "cell_type": "code",
   "execution_count": null,
   "metadata": {
    "collapsed": true
   },
   "outputs": [],
   "source": [
    "# define Cobb_Douglas here"
   ]
  },
  {
   "cell_type": "code",
   "execution_count": null,
   "metadata": {
    "collapsed": true
   },
   "outputs": [],
   "source": [
    "Cobb_Douglas(0.33,10,5,1)       # this should work!"
   ]
  },
  {
   "cell_type": "markdown",
   "metadata": {},
   "source": [
    "### 2.2 Conditionals\n",
    "\n",
    "Conditionals are very useful structures. They check if a condition is met, and if it is, then they do something. They look like this:"
   ]
  },
  {
   "cell_type": "code",
   "execution_count": null,
   "metadata": {
    "collapsed": false
   },
   "outputs": [],
   "source": [
    "if 4>0:   # 4 being greater than 0 is the condition\n",
    "    print \"Four is greater than 0\"\n",
    "else:     # In case the condition before is False\n",
    "    print \"WTF python\""
   ]
  },
  {
   "cell_type": "markdown",
   "metadata": {},
   "source": [
    "We can put them inside functions:"
   ]
  },
  {
   "cell_type": "code",
   "execution_count": null,
   "metadata": {
    "collapsed": true
   },
   "outputs": [],
   "source": [
    "def even(x):\n",
    "    if x % 2 == 0:                      # a%b returns the remainder of dividing a by b\n",
    "        result = str(x)+\" is even\"  # string \"x is even\"\n",
    "        return result\n",
    "    else:\n",
    "        result = str(x)+\" is odd\"\n",
    "        return result"
   ]
  },
  {
   "cell_type": "code",
   "execution_count": null,
   "metadata": {
    "collapsed": false
   },
   "outputs": [],
   "source": [
    "print even(7)\n",
    "print even(800)"
   ]
  },
  {
   "cell_type": "markdown",
   "metadata": {},
   "source": [
    "Simple, right?\n",
    "\n",
    "We can check for multiple things at the same time using `elif`:"
   ]
  },
  {
   "cell_type": "code",
   "execution_count": null,
   "metadata": {
    "collapsed": false
   },
   "outputs": [],
   "source": [
    "mark = 68\n",
    "\n",
    "if mark < 40:\n",
    "    print \"Fail\"\n",
    "elif mark < 60:\n",
    "    print \"Pass\"\n",
    "elif mark < 70:\n",
    "    print \"Second class honours\"\n",
    "else:\n",
    "    print \"First class honours\""
   ]
  },
  {
   "cell_type": "markdown",
   "metadata": {},
   "source": [
    "### 2.3 *For* loops\n",
    "\n",
    "Another very useful structure. There are use to repeat a set of actions a number of times, or to iterate over values in a group.\n",
    "\n",
    "There are two types:\n",
    "- `for` loops: perform an action for a number of items in a group.\n",
    "- `while` loops: repeat an action as long as a certain statement is `True`.\n",
    "\n",
    "An example of a `for` loop:"
   ]
  },
  {
   "cell_type": "code",
   "execution_count": null,
   "metadata": {
    "collapsed": false
   },
   "outputs": [],
   "source": [
    "starting_vector = np.empty(0)                          # Creates an empty vector\n",
    "\n",
    "for i in [1,2,3,4]:\n",
    "    starting_vector = np.hstack((starting_vector,i))\n",
    "    print starting_vector                              # This shows us progress"
   ]
  },
  {
   "cell_type": "markdown",
   "metadata": {},
   "source": [
    "These can be used to do a certain action a number of times. For example:"
   ]
  },
  {
   "cell_type": "code",
   "execution_count": null,
   "metadata": {
    "collapsed": false
   },
   "outputs": [],
   "source": [
    "for i in [1,2,3,4]:\n",
    "    print \"Nananana\"       # we simply not use the i for anything!\n",
    "    \n",
    "print \"Batman!\"            # note the indentation: this executes after the loop"
   ]
  },
  {
   "cell_type": "markdown",
   "metadata": {},
   "source": [
    "`For` loops are often used with the python function `range`, which returns a list of intergers. For example:"
   ]
  },
  {
   "cell_type": "code",
   "execution_count": null,
   "metadata": {
    "collapsed": false
   },
   "outputs": [],
   "source": [
    "range(5)                # list from 0 up to 5, but not including 5. So [0,5)"
   ]
  },
  {
   "cell_type": "code",
   "execution_count": null,
   "metadata": {
    "collapsed": false
   },
   "outputs": [],
   "source": [
    "range(2,12,2)           # first argument is start, second is \"up to\", last one is the step"
   ]
  },
  {
   "cell_type": "code",
   "execution_count": null,
   "metadata": {
    "collapsed": false
   },
   "outputs": [],
   "source": [
    "total = 0               # start a counter variable: a variable equal to 0 used to count something\n",
    "\n",
    "for j in range(4):      # notice you can use any leter/word for the item, not just i (I use j here)\n",
    "    total += j          # a += b adds to the variable a the ammount b (and modifies it)\n",
    "    \n",
    "print \"The sum of\",range(4),\"is\", total"
   ]
  },
  {
   "cell_type": "markdown",
   "metadata": {},
   "source": [
    "> **Quick exercise:** Try to change the += to a + and execute the code again. What happens? Why?\n",
    "\n",
    "### 2.3  `While` loops\n",
    "\n",
    "I will leave while loops for the next session, but in case you are curious, here is an example:"
   ]
  },
  {
   "cell_type": "code",
   "execution_count": null,
   "metadata": {
    "collapsed": false
   },
   "outputs": [],
   "source": [
    "string_list = ['Robb', 'Jon','Sansa','Arya','Bran','Rickon']\n",
    "\n",
    "all_starks_alive = len(string_list)       # generate a variable to store the condition for the loop to end\n",
    "season = 1                                # generate a counter variable (starting from 1)\n",
    "\n",
    "while all_starks_alive >= 6:              # Check the condition (the length of all_starks_alive is >= 6):\n",
    "    season += 1                                 # add one to the season counter\n",
    "    if season == 3:                             # if the counter reaches 4 (otherwise do nothing):\n",
    "        dead_guy = string_list.pop(0)               # kill a character (remove first item from the listand store it in dead_guy)\n",
    "    all_starks_alive = len(string_list)         # update the condition\n",
    "    \n",
    "print dead_guy,\"dies in season\",season   # Print a spoiler"
   ]
  },
  {
   "cell_type": "markdown",
   "metadata": {},
   "source": [
    "> **Quick exercise**: if you happen to be a fan of the series referenced in the loop above, modify it such that it stores the characters as they die and the season where they die, then print it. You can use lists and/or a dictionary.\n",
    "\n",
    "> (Otherwise you can just made it up)\n",
    "\n",
    "Be careful when using while loops: if the condition is never violated, the loop will never end!\n",
    "\n",
    "[*back to top*](#top)\n",
    "<a id='part3'></a>"
   ]
  },
  {
   "cell_type": "markdown",
   "metadata": {},
   "source": [
    "## 3. Basics of plotting\n",
    "\n",
    "We can use the matplotlib module (impoted above) to plot functions.\n",
    "\n",
    "The sintax goes like:"
   ]
  },
  {
   "cell_type": "code",
   "execution_count": null,
   "metadata": {
    "collapsed": false
   },
   "outputs": [],
   "source": [
    "X = np.array(range(11))     # what will this give you?\n",
    "Y = square(X)\n",
    "\n",
    "plt.plot(X,Y)              # Plot a line passing though (x,y) points (both vectors must be the same length)\n",
    "plt.show()                 # This is for showing the picture nicely"
   ]
  },
  {
   "cell_type": "markdown",
   "metadata": {},
   "source": [
    "We can make this plot very fancy by playing around with the options of matplotlib. For example:"
   ]
  },
  {
   "cell_type": "code",
   "execution_count": null,
   "metadata": {
    "collapsed": false
   },
   "outputs": [],
   "source": [
    "plt.plot(X,Y, label=\"squared value\")   # label tells what to print in the legend\n",
    "plt.scatter(X,Y, marker='o')           # this plots X and Y by drawing a cirlce in each point (no label, won't show in legend)\n",
    "plt.ylabel(\"$X^2$\", fontsize=16)       # label the y axis (notice the $$ signs)\n",
    "plt.xlabel(\"$X$\", fontsize=16)         # label the x axis (notice the $$ signs)\n",
    "plt.legend(loc='best', frameon=True)   # show the legend, with a frame (Frameon=True), in the best location (loc='best')\n",
    "plt.xlim(0,10)                         # sets the size of the x axis\n",
    "plt.ylim(0,100)                        # sets the size of the y axis\n",
    "plt.xticks(range(0,11))                # sets the ticks of the x axis\n",
    "plt.yticks(range(0,110,10))            # sets the ticks of the y axis (range(0,110,10) tells to count from 0 to 110, 10 by 10)\n",
    "plt.show()"
   ]
  },
  {
   "cell_type": "markdown",
   "metadata": {},
   "source": [
    "> **Extra execise:** It is almost a rite of passage to code the [batman function](http://mathworld.wolfram.com/BatmanCurve.html) when you learn first how to plot. Google is your friend.\n",
    "\n",
    "[*back to top*](#top)\n",
    "\n",
    "## That's it!\n",
    "\n",
    "### We have learned:\n",
    "\n",
    "<form action=\"demo_form.asp\" method=\"get\">\n",
    "<p>&nbsp;</p>\n",
    "<input type=\"checkbox\" >  How to create and manipualte vectors (numpy.arrays)<br>\n",
    "\n",
    "<input type=\"checkbox\" >  How to create and manipualte matrices.<br>\n",
    "\n",
    "<input type=\"checkbox\" >  Operations with vectors and matrices.<br>\n",
    "\n",
    "<input type=\"checkbox\" >  How to create and manipualte lists. The difference between lists and arrays.<br>\n",
    "\n",
    "<input type=\"checkbox\" >  How to create and use dictionaries.<br>\n",
    "\n",
    "<input type=\"checkbox\" >  How to create basic custom functions.<br>\n",
    "\n",
    "<input type=\"checkbox\" >  How to create conditionals: check if some condition is met.<br>\n",
    "\n",
    "<input type=\"checkbox\" >  `For` loops, how to use them to count and iterate over a list.<br>\n",
    "\n",
    "<input type=\"checkbox\" >  The sintax of `While` loops.<br>\n",
    "\n",
    "<input type=\"checkbox\" >  How to create a simple plot.<br>\n",
    "</form>\n",
    "\n",
    "These are the most basic commands of python, but they exist in some form or another in matlab and other languages. So it would be a good idea to keep this notebook open (at least at the beginning) as a reference while you work.\n",
    "\n",
    "### If you want to learn more:\n",
    "\n",
    "- For a more thorough explanation of variables, loops, functions, conditionals, lists and dictionaries, take a look at the [Think Python](http://greenteapress.com/thinkpython/html/index.html) chapters on them. There are lots of exercises!\n",
    "\n",
    "- For more on vectors and matrices, [this chapter of QuantEcon](http://lectures.quantecon.org/py/numpy.html) is a complete introduction - with exercises at the end too.\n",
    "\n",
    "- For more on plotting with Matplotlib, [QuantEcon](http://lectures.quantecon.org/py/matplotlib.html) has a good summary.\n",
    "\n",
    "- When I'm looking for a plot feature (\"what was the command for the legend?\") I usually look in [the official page](http://matplotlib.org/api/pyplot_api.html) using the find function of my browser. Or just google it.\n",
    "\n",
    "### What's next\n",
    "\n",
    "Feel free to change the code or use the cells below to experiment.\n",
    "\n",
    "When you feel like you got it, move on to **Solow Model Example** to put your knowledge into practice!\n"
   ]
  },
  {
   "cell_type": "code",
   "execution_count": null,
   "metadata": {
    "collapsed": true
   },
   "outputs": [],
   "source": [
    "# room to experiment"
   ]
  },
  {
   "cell_type": "code",
   "execution_count": null,
   "metadata": {
    "collapsed": true
   },
   "outputs": [],
   "source": [
    "# room to experiment"
   ]
  },
  {
   "cell_type": "code",
   "execution_count": null,
   "metadata": {
    "collapsed": true
   },
   "outputs": [],
   "source": [
    "# room to experiment"
   ]
  },
  {
   "cell_type": "code",
   "execution_count": null,
   "metadata": {
    "collapsed": true
   },
   "outputs": [],
   "source": [
    "# room to experiment"
   ]
  },
  {
   "cell_type": "markdown",
   "metadata": {},
   "source": [
    "# *Wait!*\n",
    "\n",
    "## *How about taking derivatives?*\n",
    "\n",
    "I thought you wouldn't ask!\n",
    "\n",
    "We'll need sympy for that:"
   ]
  },
  {
   "cell_type": "code",
   "execution_count": null,
   "metadata": {
    "collapsed": true
   },
   "outputs": [],
   "source": [
    "import sympy as sym                           # import the sympy library\n",
    "sym.init_printing(use_latex='mathjax')        # make sure it prints nicely (if error, conda install mathjax)"
   ]
  },
  {
   "cell_type": "markdown",
   "metadata": {},
   "source": [
    "Define your symbolic variables using `sym.var`. Then define the symbolic expression you want as function:"
   ]
  },
  {
   "cell_type": "code",
   "execution_count": null,
   "metadata": {
    "collapsed": false
   },
   "outputs": [],
   "source": [
    "alpha, K, L, A = sym.var('alpha, K, L, A')    # define symbolic variables\n",
    "Y = K**alpha * (A*L)**(1-alpha)\n",
    "Y"
   ]
  },
  {
   "cell_type": "code",
   "execution_count": null,
   "metadata": {
    "collapsed": false
   },
   "outputs": [],
   "source": [
    "Y.diff(L)"
   ]
  },
  {
   "cell_type": "markdown",
   "metadata": {},
   "source": [
    "We can take double derivatives too:"
   ]
  },
  {
   "cell_type": "code",
   "execution_count": null,
   "metadata": {
    "collapsed": false
   },
   "outputs": [],
   "source": [
    "Y.diff(L).diff(K)"
   ]
  },
  {
   "cell_type": "markdown",
   "metadata": {},
   "source": [
    "If they get too mesy we can simlify them:"
   ]
  },
  {
   "cell_type": "code",
   "execution_count": null,
   "metadata": {
    "collapsed": false
   },
   "outputs": [],
   "source": [
    "Y.diff(L).diff(K).simplify()"
   ]
  },
  {
   "cell_type": "markdown",
   "metadata": {},
   "source": [
    "That's it! Go crazy!!"
   ]
  },
  {
   "cell_type": "code",
   "execution_count": null,
   "metadata": {
    "collapsed": false
   },
   "outputs": [],
   "source": [
    "Y.diff(L).diff(K).diff(L).diff(K).simplify()"
   ]
  },
  {
   "cell_type": "markdown",
   "metadata": {},
   "source": [
    "You are welcome ;)"
   ]
  }
 ],
 "metadata": {
  "kernelspec": {
   "display_name": "Python 2",
   "language": "python",
   "name": "python2"
  },
  "language_info": {
   "codemirror_mode": {
    "name": "ipython",
    "version": 2
   },
   "file_extension": ".py",
   "mimetype": "text/x-python",
   "name": "python",
   "nbconvert_exporter": "python",
   "pygments_lexer": "ipython2",
   "version": "2.7.13"
  }
 },
 "nbformat": 4,
 "nbformat_minor": 0
}
