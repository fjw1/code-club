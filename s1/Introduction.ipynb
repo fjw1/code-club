{
 "cells": [
  {
   "cell_type": "markdown",
   "metadata": {},
   "source": [
    "# Introduction"
   ]
  },
  {
   "cell_type": "markdown",
   "metadata": {},
   "source": [
    "\n",
    "##  What is the code club?\n",
    " \n",
    "It is intended to give you a flavour of what computational macroeconomics is like.\n",
    "\n",
    "You can even apply it to micro, econometrics, labour or any kind of economic problem!\n",
    "\n",
    "This would be a basic mini-course that will teach you how to use tools to solve problems. I'll not be spending much time on *how* the tools work, but I'm happy to direct you to places to learn more.\n",
    "\n",
    "There will be a formal course at the beginning of June tough by a profesor who is an expert on the field. This should prepare you for that, so that you feel more confortable with the advance material of his course.\n",
    "\n",
    "\n",
    "\n",
    "##  Is the code club for me?\n",
    " \n",
    "These informal meetings are aimed at people who have never seen programming before in economics and would like to get a head start on it.\n",
    "\n",
    "People who are just curious on how to solve the models we see in macro are welcome too. That is actually what we'll do, code up the models of Macro 1 as examples. You are welcome to use them as study materials.\n",
    "\n",
    "As most of you are starting from 0, I am going to be as intuitive as I can, and that means skipping over the details and just show you how it works. For example, I'll show you how to solve a consumption optimization problem without explaining the theorems that pin down existence/convergence. The fun thing about computation is that most of the time those theorems do not exist or are very difficult to prove, so we can just try and see if we can reach a solution. \n",
    "\n",
    "However it is very helpful if you know that a particualr problem can or can't be solved. For this most of the time you just need the golden rule of CM:\n",
    "\n",
    "> Number of equations $\\geq$ Number of unknowns\n",
    "\n",
    "\n",
    "There is also going to be -inevitably- some maths, but not algebra. I'll try to keep that to a minimum and for people interested point them to an appropiate resource. In fact, soon I'll show you how to make the computer take derivatives for you!\n",
    "\n",
    "You'll also have to develop patience and persistence at a Zen master level in this business. Most of the time cooding is invested into solving typos in your code or *debugging*, and that can be *very* frustrating sometimes. The best way to deal with this is to take a break, do something else, and then back to the code. If you are still stuck, I'll first ask to to ask other people in the course - more on this later - and then ask me. But I'm your last resort. When coding by yourself in the future there is only going to be [Stack Overflow](http://stackoverflow.com/), google and you.\n",
    "\n",
    "**BEWARE** that this will take some time and that is a scarce recourse in this Msc course. This doesn't count towards your final mark and you should give your courses priority. So don't feel presssured to attend to all sessions, all the materials will be here for when you have the time. You can come and leave at any point. I won't get mad.\n",
    "\n",
    "\n",
    "## How will it work?\n",
    " \n",
    "* I'm plannign 10 sessions, once or twice a month, but that number may vary depending on how we work.\n",
    "\n",
    "* Previous to the meeting, I'll send you a couple of *notebooks* (like this one) to play around with.\n",
    "\n",
    "* At the meetings we'll discuss the notebooks, the main takeawyas, what you got stuck in, what cool stuff you added...\n",
    "\n",
    "* As the meetings lead on, I hope we can have some little presentations, but more on this later.\n",
    "\n",
    "\n",
    "\n",
    "\n",
    "## What's on Today\n",
    "\n",
    "1. [What is computer programming and what can it do for economists?](#part-1)\n",
    "2. [Choosing a language](#part-2)\n",
    "3. [Jupyter Notebook Basics](#part-3)\n",
    "4. [Ready for the first assigment](#part-4)\n",
    "5. [Resources to Learn More](#part-5)\n",
    "\n",
    "* * * * \n",
    "\n"
   ]
  },
  {
   "cell_type": "markdown",
   "metadata": {},
   "source": [
    "## 1. What is computer programming and what can it do for economists? <a id=\"part-1\"></a>\n",
    "\n",
    "It is how to communicate a set of instructions to a computer in order to perform a computation - to solve a problem: sum a set of numbers, find a certain word in a text, etc.\n",
    "\n",
    "For example, a do file in stata: a set of instructions for the computer to execute.\n",
    "\n",
    "The advantages of computers over people is that they are very very fast at doing simple math operations. They are also very fast and precise for more complex operations (like integration), but the way they do that is approximating the real thing using very simple math. \n",
    "\n",
    "> Example: Think about integration as the area behind a function. The way the computer computes that area is to split it up in many rectangles, caculate their areas and add them up.\n",
    "\n",
    "This makes the computer a powerful ally for doing tedious math. You have already seen in econometrics how good it can be for doing matrix algebra. Imaging doing OLS by hand! But for more complicated macro models, all that we need to do is reformulate our problems in such a way that all the computer has to do is (many) simple calculations. How? Well, that's why we macroeconomists love Bellman equations and value functions - breaking down complex problems into simpler ones.\n",
    "\n",
    "In economics, most of the time we need to solve for an unknown function. Solving for a function is much more complicated than solving for a number! Most of the time, there is no close form solution and then pen and paper are mostly useless. But we can ask the computer to approximate those functions numerically. There are different ways of doing these: we can get the values of the unkown function $y(x)$ for certain values of $x$ and then \"connect the dots\" (interpolation) or fit a polynomial to pass though those points (collocation). Or if we are interested in the values around a certain point (the steady state for example), we can approximate the unknown function around that point using taylor rule expansions (perturbation).\n",
    "\n",
    "> For example, in the neoclassical model, we saw how difficult was to obtain the saddle path, which is an unkown function $c(k)$ (I dropped the tildes). We could approximate it by hand using linearization, but that would take a long time and be very error prone. We did better by approximated it by shooting: starting at a level $k_0$ and an initial guess for $c_0$, then adjusting $c_0$ up or down until we hit the steady-state. We used the path generated by that sequence of $c$ and $k$ to generate a function - just connecting the dots (interpolation).\n",
    "\n",
    "But perhaps the most useful thing computers allows us to do is to estimate our models and take them to the data. usually we do this by giving an initial guess for the parameters of our model, solving it and then measuring the distance of certain statistics/outcomes of the model with their counterpart in the data. Most likely they won't be the same, but the computer can use clever algorithms (or mathematical recipies) like the [Newton method](https://en.wikipedia.org/wiki/Newton%27s_method) to find which way to change our parameters such that the distance with between model and the data is minimized. This is estimation/calibration, and applies to an even wider range of problems. From labour to finance, macro to matching, anyone that does an economic empirical application these days is using a computer.\n",
    "\n",
    "> Example: In a macro model such as DSGE models, usually these are the variance of GDP, unemployment, wages, inflation, interest rates, investment, consumption, government spending... and their covariances.\n",
    "\n",
    "> Or in a labour model, the variance and persistence of unemployment, vacancies, job creation and job destrution.\n",
    "\n",
    "The general procedure is: \n",
    "\n",
    "1. Solve your model using a set of initial guesses for your parameters (risk aversion, depreciation etc) $\\theta_0$\n",
    "2. Calculate a set of statistics (moments) of interest (your \"targets\"). Call these $M(\\theta_0)$. \n",
    "3. Calculate then the norm (or the sum of square residuals or any other distance measure) between those and their data counterparts, $\\|(M(\\theta_0)-M_{TRUE})\\|$ \n",
    "4. Guess a new set of parameters (using some clever algorithm) $\\theta_1$ and back to 1.\n",
    "5. Stop when the distance is minimized.\n",
    "\n",
    "Sometimes very fancy econometrics are used, like bayesian inference, GMM or VARs - don't worry if you don't know what some of these are, I said *fancy* econometrics  for a reason. These are rarely something that you can call a command in stata and be done with it - well, less so in R. Most of the time you will have to code your own estimators. If that sounds daunting to you that's ok. We won't be doing that in this course. But this shows you that even for econometrics knowing a bit of programming is extremly handy.\n",
    "\n",
    "\n",
    "### More examples of economic problems\n",
    "\n",
    "* Solve an optimization problem which doesn't have a close form solution. [(example1)](https://www.cambridge.org/core/journals/macroeconomic-dynamics/article/consumption-and-saving-over-the-life-cycle-how-important-are-consumer-durables/B0D4DC0F2A4DC17AE0A4941F291CA285) [example 2](http://www.sciencedirect.com/science/article/pii/S1094202513000392)\n",
    "\n",
    "* Calibrate a model on a series of data statistics of interest. [(example)](https://papers.ssrn.com/sol3/papers.cfm?abstract_id=2208446) The example takes a model of the labour market and uses it to match earning profiles over the life-cycle in the UK. But in general there are a lot of examples on computational estimation.\n",
    "\n",
    "* Find the steady state of a complex economic model by simulation (monte carlo experiments).[(example)](http://www.sciencedirect.com/science/article/pii/S0165188909001341) This is how you solve models with heterogeneous agents, for example.\n",
    "\n",
    "* Calculate and calibrate structural VARs and impulse response functions. [(example)](http://www.nber.org/papers/t0308) These are commonly used to quantify the effect of a shock to an economic variable (say goverment spending) on the rest of the economy over time. Traditionally they were used to find correlations between different variables (like investment and consumption) [(example)](http://www.sciencedirect.com/science/article/pii/S0014292103001405).\n",
    "\n",
    "\n",
    "\n",
    "### Computer languages\n",
    "\n",
    "To communicate with the computer we need to speak its language.\n",
    "\n",
    "The computer \"thinks\" or \"works\" in terms of 0s and 1s, and you can certainly write a code such that its very close to the hardware of your computer. This is called a low-level language.\n",
    "\n",
    "However that can be very tedious and error prone. That's why high-level languages (like C, python or R) exist: they are much closer to the language of humans that of machines, and can translate English to computer and back.\n",
    "\n",
    "--------"
   ]
  },
  {
   "cell_type": "markdown",
   "metadata": {},
   "source": [
    "## 2. Choosing a language <a id=\"part-2\"></a>\n",
    "\n",
    "There some alternatives, and I invite you to read the [Aruoba and Fernandez-Villaverde paper](http://www.econ.nyu.edu/user/violante/NYUTeaching/QM/Spring15/Documents/comparison_languages.pdf) for a detailed comparative.\n",
    "\n",
    "For this course I will consider both python and Matlab for being the easier to start with - and fairly common.\n",
    "\n",
    "### Matlab\n",
    "\n",
    "**PROS:** The most popular in economics, pretty fast, easy to code.\n",
    "\n",
    "**CONS:** Not so easy to debug, expensive.\n",
    "\n",
    "\n",
    "### Python\n",
    "\n",
    "**PROS:** Easy to code and debug, big (and friendly) online comunity, easy to learn, 100% free.\n",
    "\n",
    "**CONS:** Slow (can be speeded up), not widespread in economics (growing tho).\n",
    "\n",
    "\n",
    "### Julia\n",
    "\n",
    "**PROS:** 100% free, fast and good debugging.\n",
    "\n",
    "**CONS:** Community is not that big (or nice), rarely used (but growing).\n",
    "\n",
    "\n",
    "### Fortram\n",
    "\n",
    "**PROS:** Very fast, very common in economics (only).\n",
    "\n",
    "**CONS:** Old, painful to debug and code.\n",
    "\n",
    "### C++\n",
    "\n",
    "**PROS:** The fastest of them all (very good for big problems), pretty common.\n",
    "\n",
    "**CONS:** Very hard to code, debug and learn.\n",
    "\n",
    "\n",
    "### Both?\n",
    "\n",
    "My proposal is to use a combination of python and matlab. First we'll learn the basics of programming in python but by the second semester we will start using matlab too - we'll need access to a computer lab for that because it is expensive and I'm not going to ask you to buy it. The nicest thing is that both languages are fairly similar and the transition is very easy. So yeah, you are not going to learn not one but TWO programming languages. That is going to make a shiny addition to your CV."
   ]
  },
  {
   "cell_type": "markdown",
   "metadata": {},
   "source": [
    "# 3. Jupyter notebooks <a id=\"part-3\"></a>\n",
    "\n",
    "The best bit of python is the ipython notebooks as they were know in the past. This format is what you are reading right now, and have the advantage to combine nicely written Markdown text with executable code. A win-win for learning!\n",
    "\n",
    "The notebook opens in your default internet browser. If that is Windows Explorer I would suggest you change it to Firefox or Chrome. I ahve never used it with Safari so not sure how it will run on that.\n",
    "\n",
    "The notebook is structured in cells of code. This is useful because you can split up your code and try it bit by bit before putting it together in a script (or a full set of instructions). It is also useful if you are doing a lot of plotting - as we are! There is nothing like a good plot to make sense of things.\n",
    "\n",
    "You can also write python code in any text editor and then execute it using your command prompt or terminal. This is as writting it a .do file and executing it in Stata. The notebook can read scripts too and execute them, so I think it wins in terms of versatility. It can export to .html and potentially .pdf (you need LaTex for that).\n",
    "\n",
    "## Installing the software \n",
    "\n",
    "Python is a programming language, but it needs files to run - files to tell the computer how to interpret the python language. We could simply go to the official python website, but better than that is to use a python distribution. Python distributions are packages that not only come with the basic python, but they also come with a lot of toolboxes or libraries. They also have nice support in case things go wrong.\n",
    "\n",
    "My python distribution of choice is [Anaconda](https://www.continuum.io/). There are more, but I'd advise you to stick with it.\n",
    "\n",
    "Most of the libraries we are going to use are included:\n",
    "\n",
    "- Numpy: a super useful mathematical package that makes handling vectors and matrices easy.\n",
    "\n",
    "- Scipy: a more sophisticated mathematical toolbox, with things like integration, distributions of random variables etc.\n",
    "\n",
    "- Sympy: symbolical math. This makes python a fairly good substitute for an expensive program called Mathematica.\n",
    "\n",
    "- Matplotlib: all the plots! Like ggplot2 in R.\n",
    "\n",
    "- Pandas: this is for statistical analysis and aims at making python compete with R. Very popular in finance.\n",
    "\n",
    "The only one that doesn't come pre-installed is Seaborn, which makes plots nicer. Makes excel plots look like rubbish.\n",
    "\n",
    "I have included a readme in a text file with instructions on how to download and install everything, but just in case, this is what you need to do:\n",
    "\n",
    "1. **Download Anaconda** [full version](https://www.continuum.io/downloads) or [mini version](http://conda.pydata.org/miniconda.html). Full version takes 3.3GB of space, the mini one is much lighter but you'll have to manually install things (see point 2 below). In any case, choose **python 2.7** and make sure you say **yes** to *\"Add Anaconda to system path\"*.\n",
    "\n",
    "2. **Install libraries**: once the installation of Anaconda is complete, open a command prompt (terminal in mac), type in `conda install `and the library name. Hit enter/return. If you can't find your terminal/command promt, use your search bar. The libraries we'll need are:\n",
    "    * ipython\n",
    "    * numpy\n",
    "    * scipy\n",
    "    * sympy\n",
    "    * pandas\n",
    "    * matplotlib\n",
    "    * seaborn (if you choose to install full Anaconda, just conda install this)\n",
    "\n",
    "3. **Install a good text editor** (optional but highly recommended). This is a must for anyone doing programming. I like [Sublime 3.0](https://www.sublimetext.com/3), but there are a few. Choose one with text highliting!\n",
    "\n",
    "4. **Set up [GitHub](https://github.com/)**: Create your account and [download](https://desktop.github.com/) it. Don't pay too much attention to the github tutorials, I'll teach you how to use it in the first session. \n",
    "\n",
    "5. **That's it!** To open this (or any other notebook) open the command prompt/terminal and navigate to the folder where the notebook is by typing `cd folder-path`. So for example, if it is in your Documents, type `cd Documents/folder`.  Once there, type in `ipython notebook`. If you can read this, you are ready to go!\n",
    "\n",
    "> Tip: If you ever need to install more libraries, just do the same: command prompt, `pip install package name`, enter/return. Should work fine.\n",
    "\n",
    "> Tip: In windows, navigate to the folder where the notebook is, hold the shift key and right-click: select 'open command window here' $\\rightarrow$ no need to navigate using `cd`!\n",
    "\n",
    "\n",
    "\n",
    "## First steps\n",
    "\n",
    "The cell below is a code cell. It contains some python code (instructions) that tell the computer to print `Hello World!` To execute the cell (run the code in in), click on it so the left border is green and press shift+return. Try it now!"
   ]
  },
  {
   "cell_type": "code",
   "execution_count": null,
   "metadata": {
    "collapsed": false
   },
   "outputs": [],
   "source": [
    "print \"Hello world!\""
   ]
  },
  {
   "cell_type": "markdown",
   "metadata": {},
   "source": [
    "The first word is highlited in green because it is a **key word**, a word reserved for an specific function. In this case is to print in the screen whatever comes next.\n",
    "\n",
    "The rest is written under quotes because it is a **string**: text (not numbers). Try to erase the quotes and execute the cell.\n",
    "\n",
    "Woops! Python gave you an error because words without quotes are assumed to be **variable** names. Variables are containers, little boxes where we put numbers, strings or any kind of object. For example, I'm going to name two variables in the next cell:"
   ]
  },
  {
   "cell_type": "code",
   "execution_count": null,
   "metadata": {
    "collapsed": true
   },
   "outputs": [],
   "source": [
    "number = 7\n",
    "word = \"Girls!\""
   ]
  },
  {
   "cell_type": "markdown",
   "metadata": {},
   "source": [
    "Execute that cell and nothing happens. But now I can use those variables (number and word) for doing other things:"
   ]
  },
  {
   "cell_type": "code",
   "execution_count": null,
   "metadata": {
    "collapsed": false
   },
   "outputs": [],
   "source": [
    "number + 20"
   ]
  },
  {
   "cell_type": "code",
   "execution_count": null,
   "metadata": {
    "collapsed": false
   },
   "outputs": [],
   "source": [
    "print \"Who runs the world? \" + word"
   ]
  },
  {
   "cell_type": "markdown",
   "metadata": {},
   "source": [
    "So for numbers we can add, substract, multiply, divide, all of the basics. We are not that interested in words, but there is more to python than intergers and words. Try to divide 7 by 2:"
   ]
  },
  {
   "cell_type": "code",
   "execution_count": null,
   "metadata": {
    "collapsed": false
   },
   "outputs": [],
   "source": [
    "7 / 2"
   ]
  },
  {
   "cell_type": "markdown",
   "metadata": {},
   "source": [
    "Not what you were expecting right? **Interger** division always returns an interger in python. What we want is a **floating point** - a number with decimal spaces. For that, just ammend the code above by changing 7 to 7.0 (and execute). There you go, floats over floats are floats.\n",
    "\n",
    "Before we move on to more kinds of objects (like vectors and matrices) let me introduce you to **booleans**. A boolean is a True or False, a 1 or a 0. The easiest way of obtaining a boolean is writting down an identity like the one below (number equals 9 with two equal signs)"
   ]
  },
  {
   "cell_type": "code",
   "execution_count": null,
   "metadata": {
    "collapsed": false
   },
   "outputs": [],
   "source": [
    "number == 9"
   ]
  },
  {
   "cell_type": "markdown",
   "metadata": {},
   "source": [
    "Booleans will come in handy when we write **conditionals**. We'll come to this in the first session, but first let me quickly explain a few features of the jupyter notebook.\n",
    "\n",
    ">**Quick exercises:**\n",
    ">- Change the variable `number` to be the sum of your month and day of birth.\n",
    ">- Make a statement (identity) such that the above boolean be `False`.\n",
    ">- You may have noticed that you can add or concatenate strings using the + sing. Try using other simple operations (substraction, multiply by a number) on strings. Which one works? What does it do?"
   ]
  },
  {
   "cell_type": "markdown",
   "metadata": {},
   "source": [
    "## More notebook tips\n",
    "\n",
    "- In the File menu you can save and export the notebook.\n",
    "\n",
    "- In the Cell menu you can change the type of cell, from markdown (nice text) to code. If you want to learn to write in markdown, a nice cheatsheet can be found [here](http://assemble.io/docs/Cheatsheet-Markdown.html).\n",
    "\n",
    "- To edit a markdown cell, double click on it. To excute, hit shift+enter or ctrl+enter.\n",
    "\n",
    "- If your code crashes, you can hit the stop button to \"kill the kernell\" or interrumpt the python code. You'll need to re-execute from the begining if you do so!\n",
    "\n",
    "- You can create a new cell using the + button, cut/copy/paste using their buttons, and move from cell to cell using the arrow buttons.\n",
    "\n",
    "- You can run more than one notebook at the same time!\n"
   ]
  },
  {
   "cell_type": "markdown",
   "metadata": {},
   "source": [
    "# 4. Ready for the first assigment <a id=\"part-4\"></a>\n",
    "\n",
    "If you reach down here, you will have gotten the basics and will be ready for the first assignment: `Python 101: Basic Structures`. We will do that in the first session.\n",
    "\n",
    "Then you will be ready for the first challenge: code the Solow model using vectors, lists, functions, conditionals and loops. These are programming basics that exist in virtually every language. So if you get them, you are 50% there already!"
   ]
  },
  {
   "cell_type": "markdown",
   "metadata": {},
   "source": [
    "# 5. Resources to learn more <a id=\"part-5\"></a>\n",
    "\n",
    "- The first assigment is a very very very short version of [Think Python](http://greenteapress.com/thinkpython/html/index.html), an free ebook with exercises. If we both had more time I would take you through the book, but as that's not possible, I'll leave it as a reference and try to teach you the main tools.\n",
    "\n",
    "\n",
    "- I always recommend the free online edX course [Introduction to Computer Science using python](https://www.edx.org/course/introduction-computer-science-mitx-6-00-1x-9). It runs every six months and you can do it at your own pace. Plus professor Grimson is SO NICE and such a good teacher, you'll love it.\n",
    "\n",
    "\n",
    "- The best and more advanced course for macroeconomists is to be found at [QuantEcon](http://lectures.quantecon.org/), the site of Thomas J. Sargent and John Stachurski. Theirs is an phd level course, very thorough and best enjoyed with Sangent's book [Recursive Macroeconomic Theory](https://mitpress.mit.edu/books/recursive-macroeconomic-theory-0). Just as I was adding this link to the site I found out they have added some python notebooks with even more examples - and you can see David Pugh's work there! I will be using some of the materials from there, but at a more superficial level. Maybe if after June you still feel like you like this, you can take those lectures as a personal challenge.\n",
    "\n",
    "- For GitHub use, you can refer to the quick guide I wrote or go through their [tutorials](https://guides.github.com/)."
   ]
  }
 ],
 "metadata": {
  "kernelspec": {
   "display_name": "Python 2",
   "language": "python",
   "name": "python2"
  },
  "language_info": {
   "codemirror_mode": {
    "name": "ipython",
    "version": 2
   },
   "file_extension": ".py",
   "mimetype": "text/x-python",
   "name": "python",
   "nbconvert_exporter": "python",
   "pygments_lexer": "ipython2",
   "version": "2.7.10"
  }
 },
 "nbformat": 4,
 "nbformat_minor": 0
}
