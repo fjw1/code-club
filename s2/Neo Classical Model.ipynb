{
 "cells": [
  {
   "cell_type": "code",
   "execution_count": null,
   "metadata": {
    "collapsed": false
   },
   "outputs": [],
   "source": [
    "from __future__ import division\n",
    "%matplotlib inline\n",
    "import numpy as np\n",
    "import matplotlib.pyplot as plt\n",
    "import seaborn as sns\n",
    "sns.set_style('whitegrid')"
   ]
  },
  {
   "cell_type": "markdown",
   "metadata": {},
   "source": [
    "#  Neoclassical Growth model with a Forward Shoot Algorithm\n",
    "\n",
    "## 1. The Problem\n",
    "\n",
    "There is a mass of identical households that consume and save their assets from last period. They save by purchasing capital and renting it to firms - and in return they recevie the marginal return of capital. Firms produce output according to Cobb-Douglas technology ($Y_t = K_t^\\alpha (A_t L_t)^{1-\\alpha}$). There is a No-Ponzi condition that forbids consumers to accumulate infinite debt.\n",
    "\n",
    "Our problem is to find a solution to two differential equations:\n",
    "\n",
    "$$ \\dot{k_t} = k_t^\\alpha - (\\delta + n + g)k_t - c_t$$\n",
    "\n",
    "$$ \\frac{\\dot{c_t}}{c_t} = \\frac{\\alpha k_{t+1}^{(\\alpha-1)} - (\\delta + \\rho + g\\epsilon)}{\\epsilon}$$\n",
    "\n",
    "Which are the law of motion of capital and the Euler equation.\n",
    "\n",
    "To simplify things, we'll work with a discrete version of the two differencial equations:\n",
    "\n",
    "$$ k_{t+1} = k_t^\\alpha - (\\delta + n + g)k_t - c_t + k_t$$\n",
    "\n",
    "$$ c_{t+1} = \\frac{\\alpha k_{t+1}^{(\\alpha-1)} - (\\delta + \\rho + g\\epsilon)}{\\epsilon}c_t + c_t$$\n"
   ]
  },
  {
   "cell_type": "markdown",
   "metadata": {},
   "source": [
    "## 2.The Solution (outline)\n",
    "\n",
    "The first thing we do when facing a econ computational problem is to make an outline of how are we going to approach this problem.\n",
    "\n",
    "As it reads in the title of the notebook, our strategy is to set a forward-shooting algorithm:\n",
    "\n",
    "- We start in a given point, say ($k_0,c_0$) below/above the steady-state ($k^*,c^*$).\n",
    "- We use the laws of motion above to advance the system forward - see were the capital-consumption path takes us.\n",
    "- If we hit the steady-state, then we are done. If not, we give another guess ($k_1,c_1$) and we start again.\n",
    "\n",
    "You can probably guess that we need to have a good strategy for updating our guess of initial point, and we go to that in a minute.\n",
    "\n",
    "For now, we need:\n",
    "\n",
    "- The steady-state points $k^*,c^*$\n",
    "- The law of motion functions for $k_{t+1}, c_{t+1}$\n",
    "\n",
    "And finally, we need to define some parameter values.\n",
    "\n",
    "### 2.1 Laws of motion and steady-states\n",
    "\n",
    "In previous notebooks, we declared the parameters inside a *dictionary*, but today I'll make an exception and we will declered them as global variables - (global means that after executing the next cell, epsilon will always be 1.0 unless you change it)"
   ]
  },
  {
   "cell_type": "code",
   "execution_count": null,
   "metadata": {
    "collapsed": true
   },
   "outputs": [],
   "source": [
    "# Parameters\n",
    "epsilon = 1.0\n",
    "rho = 0.03\n",
    "delta = 0.06\n",
    "n = 0.01\n",
    "g = 0.02\n",
    "alpha = 1.0/3.0"
   ]
  },
  {
   "cell_type": "markdown",
   "metadata": {},
   "source": [
    "Now that we have the parameters, it's time to code the steady-state values. \n",
    "\n",
    "We'll code them as functions and then store their values in the variables `kss` and `css`.\n",
    "\n",
    "> **Exercise 1:** Type up the steady-state values of capital and consumption per effective worker (so $x_t=x_{t+1}$)"
   ]
  },
  {
   "cell_type": "code",
   "execution_count": null,
   "metadata": {
    "collapsed": false
   },
   "outputs": [],
   "source": [
    "def kstar():\n",
    "    return # Code here\n",
    "\n",
    "def cstar(kss):\n",
    "    return # Code here\n",
    "\n",
    "kss = kstar()\n",
    "css = cstar(kss)"
   ]
  },
  {
   "cell_type": "markdown",
   "metadata": {},
   "source": [
    "Next we need to define functions for the law of motion. We don't need the steady-state values here, just the two equations we defined above.\n",
    "\n",
    "These functions should take as inputs the current value of $k_t$ ($k_{t+1}$ for the Euler) and $c_t$  and return their value next period.\n",
    "\n",
    "> **Exercise 2:** Code the (discrete) law of motion of capital and consumption"
   ]
  },
  {
   "cell_type": "code",
   "execution_count": null,
   "metadata": {
    "collapsed": true
   },
   "outputs": [],
   "source": [
    "def capital_accumulation_eqn(kt,ct):\n",
    "    ktplus1 = # Code here\n",
    "    return ktplus1"
   ]
  },
  {
   "cell_type": "code",
   "execution_count": null,
   "metadata": {
    "collapsed": true
   },
   "outputs": [],
   "source": [
    "def discrete_euler(ktplus1,ct):\n",
    "    ctplus1 = # Code here\n",
    "    return ctplus1"
   ]
  },
  {
   "cell_type": "markdown",
   "metadata": {},
   "source": [
    "### 2.2 Sample path\n",
    "\n",
    "Once the law of motions have been defined, we need to create a function that will give us the path of capital and consumption starting from any point in time.\n",
    "\n",
    "This function will take as inputs initial points for $k$ and $c$ and a number of periods ($T$), then return a vector with the sample path for both.\n",
    "\n",
    "> **Exercise 3:** Complete the code for `compte_sample_path`"
   ]
  },
  {
   "cell_type": "code",
   "execution_count": null,
   "metadata": {
    "collapsed": true
   },
   "outputs": [],
   "source": [
    "def compute_sample_path(k0,c0, T):\n",
    "    \n",
    "    # Make room by creating two vertical vectors of lenght T+1\n",
    "    k = np.empty((T+1,1))\n",
    "    c = # Code here\n",
    "    \n",
    "    # Set the first value of the vectors to be k0 and c0\n",
    "    # Code here\n",
    "    # Code here\n",
    "    \n",
    "    # For each time period t until T:\n",
    "    for t in range(0,T):\n",
    "        # Fill in k_t+1 and c_t+1 using the laws of motion\n",
    "        k[t+1] = # Code here\n",
    "        c[t+1] = # Code here\n",
    "    \n",
    "    # When done, sew both vectors together - first k, then c\n",
    "    sample_path = np.hstack([k,c])\n",
    "    return sample_path"
   ]
  },
  {
   "cell_type": "markdown",
   "metadata": {},
   "source": [
    "Let's call our function and see if it works"
   ]
  },
  {
   "cell_type": "code",
   "execution_count": null,
   "metadata": {
    "collapsed": false
   },
   "outputs": [],
   "source": [
    "# Call the function here for 10 periods"
   ]
  },
  {
   "cell_type": "markdown",
   "metadata": {},
   "source": [
    "Although it is alwayws better to plot it. Remember how to do that?"
   ]
  },
  {
   "cell_type": "code",
   "execution_count": null,
   "metadata": {
    "collapsed": false
   },
   "outputs": [],
   "source": [
    "# Initial guesses\n",
    "kguess = kss*0.5\n",
    "cguess = css*0.8\n",
    "\n",
    "# Computing smaple path\n",
    "path = compute_sample_path(kguess,cguess, 100)\n",
    "\n",
    "# Making a grid for k\n",
    "kgrid = np.linspace(0, 50, 500)\n",
    "\n",
    "# Marking the initial point using scatter\n",
    "plt.scatter(kguess,cguess)\n",
    "\n",
    "# Plotting the path using plot\n",
    "plt.plot(path[:, 0],path[:,1], ls='--')\n",
    "\n",
    "# Adding the c and k locii\n",
    "plt.plot(kgrid, cstar(kgrid), color='orange', label=r'$\\Delta k=0$') # Plots the K locus\n",
    "plt.axvline(kss, color='black', label=r'$\\Delta c=0$')               # Plots the C locus\n",
    "plt.plot(kss, css, marker='*', markersize=10, color='k')             # Marks the steady state\n",
    "\n",
    "# Setting limits of the plot so it looks nice\n",
    "plt.ylim(0, 5)\n",
    "plt.xlim(0,30)\n",
    "\n",
    "# Show the plot!\n",
    "plt.show()"
   ]
  },
  {
   "cell_type": "markdown",
   "metadata": {},
   "source": [
    "We clearly didn't get the path right. Try with a lower value for `cguess`. What happens?\n",
    "\n",
    "## 3. The Shooting algorithm\n",
    "\n",
    "The previous plot should have given you an idea of how to give better guesses each time.\n",
    "\n",
    "The shooting algorithm does precisely that: keeps trying better and better guesses until it hits the steady-state (within reason).\n",
    "\n",
    "To get better guesses, we will use a method called [bi-section search](https://en.wikipedia.org/wiki/Bisection_method): give it a high and low intervale, and guess the middle. \n",
    "\n",
    "Imagine I ask you to guess a number between 0 and 100. Ypu tell em your guess and I tell you too high or too low. \n",
    "\n",
    "How you do it? \n",
    "\n",
    "- You say (100+0)/2 = 50, I say *too high*\n",
    "- You say (50+0 )/2 = 25, I say *too low*\n",
    "- You say (50+25)/2 = 37, I say *too high*\n",
    "- You say (37+25)/2 = 31, I say *too high*\n",
    "- You say (31+25)/2 = 28, I say *too high*\n",
    "- You say (28+25)/2 = 27, and you got it!\n",
    "\n",
    "That's bisection search: you know an interval and guess the middle of the interval.\n",
    "\n",
    "### 3.1 Algorithm outline\n",
    "\n",
    "The algorithm looks like this:\n",
    "```\n",
    "Given a starting point for capital, give a guess for comsuption.\n",
    "\n",
    "Loop starts here: while distance > tolerance:\n",
    "\n",
    "1. Calculate the distance of c and k from their statedy-state.\n",
    "\n",
    "2. Use the law of motion of capital and the Euler for consumption to update k and c\n",
    "\n",
    "3. Check if we are below or above the stateady state\n",
    "\n",
    "4. Check if the distance is below tolence. If so we are done. Break the loop.\n",
    "\n",
    "5. If it is above tolerance:\n",
    "    \n",
    "    5.1 If we started from below $k^*$:\n",
    "        \n",
    "     - Is $c>c^*$? then our initial guess for c was too...    \n",
    "     - Is $k>k^*$? then our initial guess for c was too...\n",
    "     \n",
    "    5.2 If we started from below $k^*$:\n",
    "        \n",
    "     - Is $c<c^*$? then our initial guess for c was too...\n",
    "     - Is $k<k^*$? then our initial guess for c was too...\n",
    "     \n",
    "If we have broken (exit) the previous loop, then calculate the sample path and return it.\n",
    "```\n",
    "\n",
    "\n",
    "We are ready to code now.\n",
    "\n",
    "> **Exercise 4:** After compelting the pseudo code above, finish the code below for `forward_shoot`"
   ]
  },
  {
   "cell_type": "code",
   "execution_count": null,
   "metadata": {
    "collapsed": false
   },
   "outputs": [],
   "source": [
    "def forward_shoot(k0, tol=1e-07, verbose=False):\n",
    "    # compute steady state values\n",
    "    kss = # Code here\n",
    "    css = # Code here\n",
    "    \n",
    "    # First Guess\n",
    "    if k0 <= k_star:\n",
    "        c_l = 0\n",
    "        c_h = c_star\n",
    "    else:\n",
    "        c_l = c_star\n",
    "        c_h = k0**alpha\n",
    "       \n",
    "    c0 = # Code here\n",
    "    k, c = k0, c0\n",
    "    \n",
    "    # Initialize a counter (to be used later)\n",
    "    count  = 0\n",
    "    n_iter = 0\n",
    "        \n",
    "    # # # # # # Forward Shooting Algorithm # # # # # # \n",
    "    # Keep doing this until we say stop (\"break the loop\"):\n",
    "    while True:\n",
    "        \n",
    "        # advance the system using laws of motion\n",
    "        n_iter +=1\n",
    "        k = # Code here\n",
    "        c = # Code here\n",
    "        \n",
    "        # Check the distance\n",
    "        dist = np.abs(((k - k_star)**2 + (c - c_star)**2)**0.5)\n",
    "        # If the distance is smaller than our tolerance paramter\n",
    "        if dist < tol:\n",
    "            # Stop!\n",
    "            break\n",
    "        \n",
    "        # If we want to see the progress, print it every 100 iterations\n",
    "        if verbose and n_iter%100==0:\n",
    "            print dist\n",
    "        \n",
    "        # Count how many steps we take\n",
    "        count = count + 1\n",
    "        \n",
    "        # If we started form the left (below k*)\n",
    "        if k0 <= k_star:\n",
    "            \n",
    "            # If k is bigger than k* (we over-did it)\n",
    "            if k > k_star:\n",
    "                # Update out guess\n",
    "                # Code here\n",
    "                c0 = # Code here\n",
    "                # Reset the counter and the guess\n",
    "                k, c = k0, c0\n",
    "                count = 0\n",
    "                \n",
    "            # If c is bigger than c* (we over-did it)\n",
    "            if c > c_star:\n",
    "                # Update out guess\n",
    "                # Code here \n",
    "                c0 = # Code here\n",
    "                # Reset the counter and the guess\n",
    "                k, c = k0, c0\n",
    "                count = 0\n",
    "                \n",
    "        # If we started form the right (above k*)\n",
    "        else:\n",
    "            \n",
    "            # If k is smaller than k* (we over-did it)\n",
    "            if k < k_star:\n",
    "                # Update out guess\n",
    "                # Code here\n",
    "                c0 = # Code here\n",
    "                # Reset the counter and the guess\n",
    "                k, c = k0, c0\n",
    "                count = 0\n",
    "                \n",
    "            # If c is smaller than k* (we over-did it)    \n",
    "            if c < c_star:\n",
    "                # Update out guess\n",
    "                # Code here\n",
    "                c0 = # Code here\n",
    "                # Reset the counter and the guess\n",
    "                k, c = k0, c0\n",
    "                count = 0\n",
    "    \n",
    "    # If we got to here means that we found it! Print a Done! to let us know\n",
    "    print \"Done!\"\n",
    "    \n",
    "    # Calculat the path using count as the number of steps T\n",
    "    sample_path = # Code here\n",
    "    \n",
    "    # Return the sample path\n",
    "    return sample_path"
   ]
  },
  {
   "cell_type": "markdown",
   "metadata": {},
   "source": [
    "Let's try our function! Give a guess for k0 and call `forward_shoot`. \n",
    "\n",
    "**Tips:**\n",
    "\n",
    "- Use the option `verbose=True` when calling the function so you see the progress.\n",
    "- If your code doesn't seem to end, press the stop button above.\n",
    "- If that doesn't stop it after a few seconds, \"kill the kernel\": > Kernel > Restart"
   ]
  },
  {
   "cell_type": "code",
   "execution_count": null,
   "metadata": {
    "collapsed": false
   },
   "outputs": [],
   "source": [
    "c0 = 0.5*css # Not needed. Cab you guess why?\n",
    "k0 = kss*0.5\n",
    "sample_path = forward_shoot(k0, tol=1e-07, verbose= False)"
   ]
  },
  {
   "cell_type": "markdown",
   "metadata": {},
   "source": [
    "Let's plot the path!\n",
    "\n",
    "> **Exercise 6:** Fill the gaps to plot the sample path obtained above"
   ]
  },
  {
   "cell_type": "code",
   "execution_count": null,
   "metadata": {
    "collapsed": false
   },
   "outputs": [],
   "source": [
    "# Create a grid of points for plotting\n",
    "gridmax, gridsize = 200, 1000\n",
    "grid = np.linspace(0, gridmax, gridsize)\n",
    "\n",
    "# Create a new figure\n",
    "plt.figure(figsize=(8,8))\n",
    "\n",
    "# Add the c and k locii\n",
    "# Code here\n",
    "# Code here\n",
    "# Code here\n",
    "\n",
    "# Add the sample path\n",
    "# Code here\n",
    "\n",
    "# Add the initial level of capital per worker\n",
    "# Code here\n",
    "\n",
    "# Add the initial jump\n",
    "plt.arrow(k0,c0,0,sample_path[0][1]-c0, ls='--', lw=1,color='r',\n",
    "          head_length=0.05,head_width=0.5,length_includes_head=True,label = \"initial jump\")\n",
    "\n",
    "\n",
    "# Add arrows to indicate out of steady-state dynamics\n",
    "x_len = 1 \n",
    "y_len = 0.1   \n",
    "\n",
    "plt.arrow(x=0.3 * kss, y=0.3 * css, dx=0, dy=y_len,head_length=0.05,head_width=0.5,color='black')\n",
    "plt.arrow(x=0.3 * kss, y=0.3 * css, dx=x_len, dy=0,head_length=0.5,head_width=0.05,color='black')\n",
    "\n",
    "plt.arrow(x=0.3 * kss + x_len, y=1.3 * css, dx=0, dy=y_len,head_length=0.05,head_width=0.5,color='black')\n",
    "plt.arrow(x=0.3 * kss + x_len, y=1.3 * css, dx=-x_len, dy=0,head_length=0.5,head_width=0.05,color='black')\n",
    "\n",
    "plt.arrow(x=1.3 * kss, y=0.3 * css + y_len, dx=0, dy=-y_len,head_length=0.05,head_width=0.5,color='black')\n",
    "plt.arrow(x=1.3 * kss, y=0.3 * css + y_len, dx=x_len, dy=0,head_length=0.5,head_width=0.05,color='black')\n",
    "\n",
    "plt.arrow(x=1.3 * kss + x_len, y=1.3 * css + y_len, dx=0, dy=-y_len,head_length=0.05,head_width=0.5,color='black')\n",
    "plt.arrow(x=1.3 * kss + x_len, y=1.3 * css + y_len, dx=-x_len, dy=0,head_length=0.5,head_width=0.05,color='black')\n",
    "\n",
    "# Don't forget to label your axes!\n",
    "plt.xlabel('k')\n",
    "plt.ylim(0, 3)\n",
    "plt.xlim(0,40)\n",
    "plt.ylabel('c', rotation='horizontal')\n",
    "\n",
    "# Add a title to the plot\n",
    "plt.title('Phase Space for the Ramsey Model', fontsize=20, weight='bold')\n",
    "\n",
    "# Add the legend\n",
    "plt.legend(frameon=False)\n",
    "\n",
    "plt.show()"
   ]
  },
  {
   "cell_type": "markdown",
   "metadata": {
    "collapsed": true
   },
   "source": [
    "# That's it!\n",
    "\n",
    "We have coded a forward shooting algorithm that solves for the saddle plath of a Neo Classical Growth Model.\n",
    "\n",
    "This simple exercise can gives us a much more accurate solution than linearization or other techniques.\n",
    "\n",
    "For more info on linearization and how to solve continouos case, you can check again the \"Neo Classical Model - Continous version\" notebook that is also in this folder.\n",
    "\n",
    "In the next few days I will upload another notebook that introduces classes and objects, two important structures we haven't seen so far. I'll let you know when it's up.\n",
    "\n",
    "Next stop: Solving consumption problems via Value Function Iteration!"
   ]
  }
 ],
 "metadata": {
  "kernelspec": {
   "display_name": "Python 2",
   "language": "python",
   "name": "python2"
  },
  "language_info": {
   "codemirror_mode": {
    "name": "ipython",
    "version": 2
   },
   "file_extension": ".py",
   "mimetype": "text/x-python",
   "name": "python",
   "nbconvert_exporter": "python",
   "pygments_lexer": "ipython2",
   "version": "2.7.13"
  }
 },
 "nbformat": 4,
 "nbformat_minor": 0
}
